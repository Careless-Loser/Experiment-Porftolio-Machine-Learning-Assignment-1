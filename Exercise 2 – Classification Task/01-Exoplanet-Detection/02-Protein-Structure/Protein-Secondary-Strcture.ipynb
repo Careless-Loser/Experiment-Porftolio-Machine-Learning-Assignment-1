{
 "cells": [
  {
   "cell_type": "markdown",
   "id": "2c3885c4",
   "metadata": {},
   "source": [
    "### 02-Protein Secondary Structure \n",
    "\n",
    "#### **Index**\n",
    "    -> Dataset Selection\n",
    "    -> Algorithm Implementation\n",
    "    -> Evaluation\n",
    "    -> Deliverables\n",
    "---"
   ]
  },
  {
   "cell_type": "markdown",
   "id": "eedf0aea",
   "metadata": {},
   "source": [
    "### **1. Dataset Selection**\n",
    "\n",
    "For this classification experiment, we are using the **Protein Secondary Structure Dataset**, which provides peptide (amino acid) sequences and their corresponding **secondary structure labels** (helix, sheet, or coil). Secondary structures are crucial for understanding how proteins fold and function, and predicting them is a central task in **bioinformatics** (Kabsch & Sander, 1983).\n",
    "\n",
    "---\n",
    "\n",
    "**Dataset Features**:\n",
    "- `pdb_id`: Unique Protein Data Bank (PDB) identifier for the protein.\n",
    "- `chain_code`: Chain identifier within the protein structure.\n",
    "- `seq`: Amino acid sequence of the fragment.\n",
    "- `sst8`: Secondary structure label in **8-class format** (H = alpha-helix, E = beta-strand, G = 3-helix, etc.).\n",
    "- `sst3`: Secondary structure label in **3-class format** (Helix, Sheet, Coil).\n",
    "- `len`: Length of the amino acid sequence (number of residues).\n",
    "- `has_nonstd_aa`: Indicator if the sequence contains non-standard amino acids.\n",
    "- `Exptl.`: Experimental method used (e.g., X-ray diffraction, NMR).\n",
    "- `resolution`: Resolution of the protein structure (Ångström units).\n",
    "- `R-factor`: Quality metric of the crystal structure fit.\n",
    "- `FreeRvalue`: Cross-validation error measure for crystallographic refinement.\n",
    "\n",
    "---\n",
    "\n",
    "**- Target Variable**:  \n",
    "\n",
    "The **secondary structure type** of each peptide sequence. Categories are:\n",
    "\n",
    "1. **Helix (H)** – residues form a coiled helix structure.\n",
    "2. **Sheet (E)** – residues form a beta-sheet (extended strand) structure.\n",
    "3. **Coil (C)** – residues that do not form regular secondary structures.\n",
    "\n",
    "---\n",
    "\n",
    "**- Number of Records**:  \n",
    "\n",
    "The dataset contains over **9000+ records** and more than **10+ numerical features**.\n",
    "\n",
    "\n",
    "---\n",
    "\n",
    "**- Dataset Source**:  \n",
    "\n",
    "Protein Secondary Structure Dataset. Available at:  \n",
    "🔗 [https://www.kaggle.com/datasets/alfrandom/protein-secondary-structure](https://www.kaggle.com/datasets/alfrandom/protein-secondary-structure)\n",
    "\n",
    "---\n",
    "\n"
   ]
  },
  {
   "cell_type": "code",
   "execution_count": null,
   "id": "359bd954",
   "metadata": {
    "vscode": {
     "languageId": "plaintext"
    }
   },
   "outputs": [],
   "source": []
  }
 ],
 "metadata": {
  "language_info": {
   "name": "python"
  }
 },
 "nbformat": 4,
 "nbformat_minor": 5
}
