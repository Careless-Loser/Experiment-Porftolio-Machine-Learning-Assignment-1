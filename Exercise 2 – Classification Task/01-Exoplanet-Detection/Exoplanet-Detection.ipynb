{
 "cells": [
  {
   "cell_type": "markdown",
   "id": "bcb9b41a",
   "metadata": {},
   "source": [
    "### 01-Exoplanet Detection \n",
    "\n",
    "#### **Index**\n",
    "    -> Dataset Selection\n",
    "    -> Algorithm Implementation\n",
    "    -> Evaluation\n",
    "    -> Deliverables\n",
    "---"
   ]
  },
  {
   "cell_type": "markdown",
   "id": "d87c9c21",
   "metadata": {},
   "source": [
    "### **1. Dataset Selection**\n",
    "\n",
    "For this classification experiment, we are using the NASA Exoplanet Archive dataset, which provides detailed information about confirmed and candidate exoplanets observed by the Kepler Space Telescope and other missions. The dataset includes physical and orbital characteristics of celestial objects, along with a categorical label indicating whether the object is a confirmed exoplanet, a false positive, or a candidate (Akeson et al., 2013).\n",
    "\n",
    "---\n",
    "**Dataset Features**:\n",
    "- `rowid`: Row ID\n",
    "- `kepid`: Unique Kepler ID for the star\n",
    "- `kepoi_name`: Kepler Object of Interest (KOI) identifier\n",
    "- `kepler_name`: Official Kepler exoplanet name (if confirmed)\n",
    "- `koi_disposition`: Target label – disposition of the object (CONFIRMED, FALSE POSITIVE, CANDIDATE)\n",
    "- `koi_pdisposition`: Prior disposition (used historically before confirmation)\n",
    "- `koi_score`: Disposition score (confidence level of classification)\n",
    "- `koi_fpflag_nt`: False positive flag: not a transit-like event\n",
    "- `koi_fpflag_ss`: False positive flag: due to stellar system effects\n",
    "- `koi_fpflag_co`: False positive flag: due to centroid offset\n",
    "- `koi_fpflag_ec`: False positive flag: due to eclipsing binary system\n",
    "- `koi_period`: Orbital period (days)\n",
    "- `koi_period_err1, koi_period_err2`: Uncertainty bounds for orbital period\n",
    "- `koi_time0bk`: Time of first transit (Barycentric Julian Date)\n",
    "- `koi_time0bk_err1, koi_time0bk_err2`: Uncertainty bounds for transit time\n",
    "- `koi_impact`: Impact parameter (how centrally the planet transits the star)\n",
    "- `koi_impact_err1, koi_impact_err2`: Uncertainty bounds for impact parameter\n",
    "- `koi_duration`: Transit duration (hours)\n",
    "- `koi_duration_err1, koi_duration_err2`: Uncertainty bounds for transit duration\n",
    "- `koi_depth`: Transit depth (ppm = parts per million)\n",
    "- `koi_depth_err1, koi_depth_err2`: Uncertainty bounds for transit depth\n",
    "- `koi_prad`: Planetary radius (Earth radii)\n",
    "- `koi_prad_err1, koi_prad_err2`: Uncertainty bounds for planetary radius\n",
    "- `koi_teq`: Equilibrium temperature of the planet (Kelvin)\n",
    "- `koi_teq_err1, koi_teq_err2`: Uncertainty bounds for equilibrium temperature\n",
    "- `koi_insol`: Insolation flux (in Earth units)\n",
    "- `koi_insol_err1, koi_insol_err2`: Uncertainty bounds for insolation\n",
    "- `koi_model_snr`: Transit signal-to-noise ratio\n",
    "- `koi_tce_plnt_num`: Transit Candidate Event (TCE) planet number\n",
    "- `koi_tce_delivname`: Delivery name (pipeline version used for detection)\n",
    "- `koi_steff`: Stellar effective temperature (Kelvin)\n",
    "- `koi_steff_err1, koi_steff_err2`: Uncertainty bounds for stellar effective temperature\n",
    "- `koi_slogg`: Stellar surface gravity (log g in cm/s²)\n",
    "- `koi_slogg_err1, koi_slogg_err2`: Uncertainty bounds for surface gravity\n",
    "- `koi_srad`: Stellar radius (in solar radii)\n",
    "- `koi_srad_err1, koi_srad_err2`: Uncertainty bounds for stellar radius\n",
    "- `ra`: Right Ascension (celestial coordinate)\n",
    "- `dec`: Declination (celestial coordinate)\n",
    "- `koi_kepmag`: Kepler magnitude (apparent brightness of the star)\n",
    "\n",
    "---\n",
    "\n",
    "**- Target Variable**: \n",
    "\n",
    "The habitability category of the exoplanet, derived from planetary and stellar parameters. Categories are:\n",
    "\n",
    "1. **Potentially Habitable** – \n",
    "confirmed planets with Earth-like radius, equilibrium temperature, and insolation flux.\n",
    "\n",
    "2. **Non-Habitable Exoplanets** – \n",
    "confirmed planets that are too large, too hot, or too cold for habitability.\n",
    "\n",
    "3. **False Positive / Candidate** – \n",
    "unconfirmed or false positive detections.\n",
    "\n",
    "**- Number of Records**: \n",
    "\n",
    "The dataset contains over **9000+ records** and more than **30+ numerical features**.\n",
    "\n",
    "**- Dataset Source**:  \n",
    "Kepler Exoplanet Search Results. Available at: [https://www.kaggle.com/datasets/nasa/kepler-exoplanet-search-results](https://www.kaggle.com/datasets/nasa/kepler-exoplanet-search-results)\n",
    "\n",
    "---\n"
   ]
  },
  {
   "cell_type": "code",
   "execution_count": null,
   "id": "a9542631",
   "metadata": {},
   "outputs": [
    {
     "data": {
      "application/vnd.microsoft.datawrangler.viewer.v0+json": {
       "columns": [
        {
         "name": "index",
         "rawType": "int64",
         "type": "integer"
        },
        {
         "name": "rowid",
         "rawType": "int64",
         "type": "integer"
        },
        {
         "name": "kepid",
         "rawType": "int64",
         "type": "integer"
        },
        {
         "name": "kepoi_name",
         "rawType": "object",
         "type": "string"
        },
        {
         "name": "kepler_name",
         "rawType": "object",
         "type": "string"
        },
        {
         "name": "koi_disposition",
         "rawType": "object",
         "type": "string"
        },
        {
         "name": "koi_pdisposition",
         "rawType": "object",
         "type": "string"
        },
        {
         "name": "koi_score",
         "rawType": "float64",
         "type": "float"
        },
        {
         "name": "koi_fpflag_nt",
         "rawType": "int64",
         "type": "integer"
        },
        {
         "name": "koi_fpflag_ss",
         "rawType": "int64",
         "type": "integer"
        },
        {
         "name": "koi_fpflag_co",
         "rawType": "int64",
         "type": "integer"
        },
        {
         "name": "koi_fpflag_ec",
         "rawType": "int64",
         "type": "integer"
        },
        {
         "name": "koi_period",
         "rawType": "float64",
         "type": "float"
        },
        {
         "name": "koi_period_err1",
         "rawType": "float64",
         "type": "float"
        },
        {
         "name": "koi_period_err2",
         "rawType": "float64",
         "type": "float"
        },
        {
         "name": "koi_time0bk",
         "rawType": "float64",
         "type": "float"
        },
        {
         "name": "koi_time0bk_err1",
         "rawType": "float64",
         "type": "float"
        },
        {
         "name": "koi_time0bk_err2",
         "rawType": "float64",
         "type": "float"
        },
        {
         "name": "koi_impact",
         "rawType": "float64",
         "type": "float"
        },
        {
         "name": "koi_impact_err1",
         "rawType": "float64",
         "type": "float"
        },
        {
         "name": "koi_impact_err2",
         "rawType": "float64",
         "type": "float"
        },
        {
         "name": "koi_duration",
         "rawType": "float64",
         "type": "float"
        },
        {
         "name": "koi_duration_err1",
         "rawType": "float64",
         "type": "float"
        },
        {
         "name": "koi_duration_err2",
         "rawType": "float64",
         "type": "float"
        },
        {
         "name": "koi_depth",
         "rawType": "float64",
         "type": "float"
        },
        {
         "name": "koi_depth_err1",
         "rawType": "float64",
         "type": "float"
        },
        {
         "name": "koi_depth_err2",
         "rawType": "float64",
         "type": "float"
        },
        {
         "name": "koi_prad",
         "rawType": "float64",
         "type": "float"
        },
        {
         "name": "koi_prad_err1",
         "rawType": "float64",
         "type": "float"
        },
        {
         "name": "koi_prad_err2",
         "rawType": "float64",
         "type": "float"
        },
        {
         "name": "koi_teq",
         "rawType": "float64",
         "type": "float"
        },
        {
         "name": "koi_teq_err1",
         "rawType": "float64",
         "type": "float"
        },
        {
         "name": "koi_teq_err2",
         "rawType": "float64",
         "type": "float"
        },
        {
         "name": "koi_insol",
         "rawType": "float64",
         "type": "float"
        },
        {
         "name": "koi_insol_err1",
         "rawType": "float64",
         "type": "float"
        },
        {
         "name": "koi_insol_err2",
         "rawType": "float64",
         "type": "float"
        },
        {
         "name": "koi_model_snr",
         "rawType": "float64",
         "type": "float"
        },
        {
         "name": "koi_tce_plnt_num",
         "rawType": "float64",
         "type": "float"
        },
        {
         "name": "koi_tce_delivname",
         "rawType": "object",
         "type": "string"
        },
        {
         "name": "koi_steff",
         "rawType": "float64",
         "type": "float"
        },
        {
         "name": "koi_steff_err1",
         "rawType": "float64",
         "type": "float"
        },
        {
         "name": "koi_steff_err2",
         "rawType": "float64",
         "type": "float"
        },
        {
         "name": "koi_slogg",
         "rawType": "float64",
         "type": "float"
        },
        {
         "name": "koi_slogg_err1",
         "rawType": "float64",
         "type": "float"
        },
        {
         "name": "koi_slogg_err2",
         "rawType": "float64",
         "type": "float"
        },
        {
         "name": "koi_srad",
         "rawType": "float64",
         "type": "float"
        },
        {
         "name": "koi_srad_err1",
         "rawType": "float64",
         "type": "float"
        },
        {
         "name": "koi_srad_err2",
         "rawType": "float64",
         "type": "float"
        },
        {
         "name": "ra",
         "rawType": "float64",
         "type": "float"
        },
        {
         "name": "dec",
         "rawType": "float64",
         "type": "float"
        },
        {
         "name": "koi_kepmag",
         "rawType": "float64",
         "type": "float"
        }
       ],
       "ref": "dd9e9cd9-5f14-40a9-bd02-c6161b6a3dfd",
       "rows": [
        [
         "0",
         "1",
         "10797460",
         "K00752.01",
         "Kepler-227 b",
         "CONFIRMED",
         "CANDIDATE",
         "1.0",
         "0",
         "0",
         "0",
         "0",
         "9.48803557",
         "2.775e-05",
         "-2.775e-05",
         "170.53875",
         "0.00216",
         "-0.00216",
         "0.146",
         "0.318",
         "-0.146",
         "2.9575",
         "0.0819",
         "-0.0819",
         "615.8",
         "19.5",
         "-19.5",
         "2.26",
         "0.26",
         "-0.15",
         "793.0",
         null,
         null,
         "93.59",
         "29.45",
         "-16.65",
         "35.8",
         "1.0",
         "q1_q17_dr25_tce",
         "5455.0",
         "81.0",
         "-81.0",
         "4.467",
         "0.064",
         "-0.096",
         "0.927",
         "0.105",
         "-0.061",
         "291.93423",
         "48.141651",
         "15.347"
        ],
        [
         "1",
         "2",
         "10797460",
         "K00752.02",
         "Kepler-227 c",
         "CONFIRMED",
         "CANDIDATE",
         "0.969",
         "0",
         "0",
         "0",
         "0",
         "54.4183827",
         "0.0002479",
         "-0.0002479",
         "162.51384",
         "0.00352",
         "-0.00352",
         "0.586",
         "0.059",
         "-0.443",
         "4.507",
         "0.116",
         "-0.116",
         "874.8",
         "35.5",
         "-35.5",
         "2.83",
         "0.32",
         "-0.19",
         "443.0",
         null,
         null,
         "9.11",
         "2.87",
         "-1.62",
         "25.8",
         "2.0",
         "q1_q17_dr25_tce",
         "5455.0",
         "81.0",
         "-81.0",
         "4.467",
         "0.064",
         "-0.096",
         "0.927",
         "0.105",
         "-0.061",
         "291.93423",
         "48.141651",
         "15.347"
        ],
        [
         "2",
         "3",
         "10811496",
         "K00753.01",
         null,
         "FALSE POSITIVE",
         "FALSE POSITIVE",
         "0.0",
         "0",
         "1",
         "0",
         "0",
         "19.89913995",
         "1.494e-05",
         "-1.494e-05",
         "175.850252",
         "0.000581",
         "-0.000581",
         "0.969",
         "5.126",
         "-0.077",
         "1.7822",
         "0.0341",
         "-0.0341",
         "10829.0",
         "171.0",
         "-171.0",
         "14.6",
         "3.92",
         "-1.31",
         "638.0",
         null,
         null,
         "39.3",
         "31.04",
         "-10.49",
         "76.3",
         "1.0",
         "q1_q17_dr25_tce",
         "5853.0",
         "158.0",
         "-176.0",
         "4.544",
         "0.044",
         "-0.176",
         "0.868",
         "0.233",
         "-0.078",
         "297.00482",
         "48.134129",
         "15.436"
        ],
        [
         "3",
         "4",
         "10848459",
         "K00754.01",
         null,
         "FALSE POSITIVE",
         "FALSE POSITIVE",
         "0.0",
         "0",
         "1",
         "0",
         "0",
         "1.736952453",
         "2.63e-07",
         "-2.63e-07",
         "170.307565",
         "0.000115",
         "-0.000115",
         "1.276",
         "0.115",
         "-0.092",
         "2.40641",
         "0.00537",
         "-0.00537",
         "8079.2",
         "12.8",
         "-12.8",
         "33.46",
         "8.5",
         "-2.83",
         "1395.0",
         null,
         null,
         "891.96",
         "668.95",
         "-230.35",
         "505.6",
         "1.0",
         "q1_q17_dr25_tce",
         "5805.0",
         "157.0",
         "-174.0",
         "4.564",
         "0.053",
         "-0.168",
         "0.791",
         "0.201",
         "-0.067",
         "285.53461",
         "48.28521",
         "15.597"
        ],
        [
         "4",
         "5",
         "10854555",
         "K00755.01",
         "Kepler-664 b",
         "CONFIRMED",
         "CANDIDATE",
         "1.0",
         "0",
         "0",
         "0",
         "0",
         "2.525591777",
         "3.761e-06",
         "-3.761e-06",
         "171.59555",
         "0.00113",
         "-0.00113",
         "0.701",
         "0.235",
         "-0.478",
         "1.6545",
         "0.042",
         "-0.042",
         "603.3",
         "16.9",
         "-16.9",
         "2.75",
         "0.88",
         "-0.35",
         "1406.0",
         null,
         null,
         "926.16",
         "874.33",
         "-314.24",
         "40.9",
         "1.0",
         "q1_q17_dr25_tce",
         "6031.0",
         "169.0",
         "-211.0",
         "4.438",
         "0.07",
         "-0.21",
         "1.046",
         "0.334",
         "-0.133",
         "288.75488",
         "48.2262",
         "15.509"
        ]
       ],
       "shape": {
        "columns": 50,
        "rows": 5
       }
      },
      "text/html": [
       "<div>\n",
       "<style scoped>\n",
       "    .dataframe tbody tr th:only-of-type {\n",
       "        vertical-align: middle;\n",
       "    }\n",
       "\n",
       "    .dataframe tbody tr th {\n",
       "        vertical-align: top;\n",
       "    }\n",
       "\n",
       "    .dataframe thead th {\n",
       "        text-align: right;\n",
       "    }\n",
       "</style>\n",
       "<table border=\"1\" class=\"dataframe\">\n",
       "  <thead>\n",
       "    <tr style=\"text-align: right;\">\n",
       "      <th></th>\n",
       "      <th>rowid</th>\n",
       "      <th>kepid</th>\n",
       "      <th>kepoi_name</th>\n",
       "      <th>kepler_name</th>\n",
       "      <th>koi_disposition</th>\n",
       "      <th>koi_pdisposition</th>\n",
       "      <th>koi_score</th>\n",
       "      <th>koi_fpflag_nt</th>\n",
       "      <th>koi_fpflag_ss</th>\n",
       "      <th>koi_fpflag_co</th>\n",
       "      <th>...</th>\n",
       "      <th>koi_steff_err2</th>\n",
       "      <th>koi_slogg</th>\n",
       "      <th>koi_slogg_err1</th>\n",
       "      <th>koi_slogg_err2</th>\n",
       "      <th>koi_srad</th>\n",
       "      <th>koi_srad_err1</th>\n",
       "      <th>koi_srad_err2</th>\n",
       "      <th>ra</th>\n",
       "      <th>dec</th>\n",
       "      <th>koi_kepmag</th>\n",
       "    </tr>\n",
       "  </thead>\n",
       "  <tbody>\n",
       "    <tr>\n",
       "      <th>0</th>\n",
       "      <td>1</td>\n",
       "      <td>10797460</td>\n",
       "      <td>K00752.01</td>\n",
       "      <td>Kepler-227 b</td>\n",
       "      <td>CONFIRMED</td>\n",
       "      <td>CANDIDATE</td>\n",
       "      <td>1.000</td>\n",
       "      <td>0</td>\n",
       "      <td>0</td>\n",
       "      <td>0</td>\n",
       "      <td>...</td>\n",
       "      <td>-81.0</td>\n",
       "      <td>4.467</td>\n",
       "      <td>0.064</td>\n",
       "      <td>-0.096</td>\n",
       "      <td>0.927</td>\n",
       "      <td>0.105</td>\n",
       "      <td>-0.061</td>\n",
       "      <td>291.93423</td>\n",
       "      <td>48.141651</td>\n",
       "      <td>15.347</td>\n",
       "    </tr>\n",
       "    <tr>\n",
       "      <th>1</th>\n",
       "      <td>2</td>\n",
       "      <td>10797460</td>\n",
       "      <td>K00752.02</td>\n",
       "      <td>Kepler-227 c</td>\n",
       "      <td>CONFIRMED</td>\n",
       "      <td>CANDIDATE</td>\n",
       "      <td>0.969</td>\n",
       "      <td>0</td>\n",
       "      <td>0</td>\n",
       "      <td>0</td>\n",
       "      <td>...</td>\n",
       "      <td>-81.0</td>\n",
       "      <td>4.467</td>\n",
       "      <td>0.064</td>\n",
       "      <td>-0.096</td>\n",
       "      <td>0.927</td>\n",
       "      <td>0.105</td>\n",
       "      <td>-0.061</td>\n",
       "      <td>291.93423</td>\n",
       "      <td>48.141651</td>\n",
       "      <td>15.347</td>\n",
       "    </tr>\n",
       "    <tr>\n",
       "      <th>2</th>\n",
       "      <td>3</td>\n",
       "      <td>10811496</td>\n",
       "      <td>K00753.01</td>\n",
       "      <td>NaN</td>\n",
       "      <td>FALSE POSITIVE</td>\n",
       "      <td>FALSE POSITIVE</td>\n",
       "      <td>0.000</td>\n",
       "      <td>0</td>\n",
       "      <td>1</td>\n",
       "      <td>0</td>\n",
       "      <td>...</td>\n",
       "      <td>-176.0</td>\n",
       "      <td>4.544</td>\n",
       "      <td>0.044</td>\n",
       "      <td>-0.176</td>\n",
       "      <td>0.868</td>\n",
       "      <td>0.233</td>\n",
       "      <td>-0.078</td>\n",
       "      <td>297.00482</td>\n",
       "      <td>48.134129</td>\n",
       "      <td>15.436</td>\n",
       "    </tr>\n",
       "    <tr>\n",
       "      <th>3</th>\n",
       "      <td>4</td>\n",
       "      <td>10848459</td>\n",
       "      <td>K00754.01</td>\n",
       "      <td>NaN</td>\n",
       "      <td>FALSE POSITIVE</td>\n",
       "      <td>FALSE POSITIVE</td>\n",
       "      <td>0.000</td>\n",
       "      <td>0</td>\n",
       "      <td>1</td>\n",
       "      <td>0</td>\n",
       "      <td>...</td>\n",
       "      <td>-174.0</td>\n",
       "      <td>4.564</td>\n",
       "      <td>0.053</td>\n",
       "      <td>-0.168</td>\n",
       "      <td>0.791</td>\n",
       "      <td>0.201</td>\n",
       "      <td>-0.067</td>\n",
       "      <td>285.53461</td>\n",
       "      <td>48.285210</td>\n",
       "      <td>15.597</td>\n",
       "    </tr>\n",
       "    <tr>\n",
       "      <th>4</th>\n",
       "      <td>5</td>\n",
       "      <td>10854555</td>\n",
       "      <td>K00755.01</td>\n",
       "      <td>Kepler-664 b</td>\n",
       "      <td>CONFIRMED</td>\n",
       "      <td>CANDIDATE</td>\n",
       "      <td>1.000</td>\n",
       "      <td>0</td>\n",
       "      <td>0</td>\n",
       "      <td>0</td>\n",
       "      <td>...</td>\n",
       "      <td>-211.0</td>\n",
       "      <td>4.438</td>\n",
       "      <td>0.070</td>\n",
       "      <td>-0.210</td>\n",
       "      <td>1.046</td>\n",
       "      <td>0.334</td>\n",
       "      <td>-0.133</td>\n",
       "      <td>288.75488</td>\n",
       "      <td>48.226200</td>\n",
       "      <td>15.509</td>\n",
       "    </tr>\n",
       "  </tbody>\n",
       "</table>\n",
       "<p>5 rows × 50 columns</p>\n",
       "</div>"
      ],
      "text/plain": [
       "   rowid     kepid kepoi_name   kepler_name koi_disposition koi_pdisposition  \\\n",
       "0      1  10797460  K00752.01  Kepler-227 b       CONFIRMED        CANDIDATE   \n",
       "1      2  10797460  K00752.02  Kepler-227 c       CONFIRMED        CANDIDATE   \n",
       "2      3  10811496  K00753.01           NaN  FALSE POSITIVE   FALSE POSITIVE   \n",
       "3      4  10848459  K00754.01           NaN  FALSE POSITIVE   FALSE POSITIVE   \n",
       "4      5  10854555  K00755.01  Kepler-664 b       CONFIRMED        CANDIDATE   \n",
       "\n",
       "   koi_score  koi_fpflag_nt  koi_fpflag_ss  koi_fpflag_co  ...  \\\n",
       "0      1.000              0              0              0  ...   \n",
       "1      0.969              0              0              0  ...   \n",
       "2      0.000              0              1              0  ...   \n",
       "3      0.000              0              1              0  ...   \n",
       "4      1.000              0              0              0  ...   \n",
       "\n",
       "   koi_steff_err2  koi_slogg  koi_slogg_err1  koi_slogg_err2  koi_srad  \\\n",
       "0           -81.0      4.467           0.064          -0.096     0.927   \n",
       "1           -81.0      4.467           0.064          -0.096     0.927   \n",
       "2          -176.0      4.544           0.044          -0.176     0.868   \n",
       "3          -174.0      4.564           0.053          -0.168     0.791   \n",
       "4          -211.0      4.438           0.070          -0.210     1.046   \n",
       "\n",
       "   koi_srad_err1  koi_srad_err2         ra        dec  koi_kepmag  \n",
       "0          0.105         -0.061  291.93423  48.141651      15.347  \n",
       "1          0.105         -0.061  291.93423  48.141651      15.347  \n",
       "2          0.233         -0.078  297.00482  48.134129      15.436  \n",
       "3          0.201         -0.067  285.53461  48.285210      15.597  \n",
       "4          0.334         -0.133  288.75488  48.226200      15.509  \n",
       "\n",
       "[5 rows x 50 columns]"
      ]
     },
     "execution_count": 15,
     "metadata": {},
     "output_type": "execute_result"
    }
   ],
   "source": [
    "# ---------------------------------------------------------\n",
    "# Step 1.1: Importing necessary libraries\n",
    "# ---------------------------------------------------------\n",
    "import pandas as pd # For handling tabular data\n",
    "import numpy as np # For numerical computations\n",
    "\n",
    "# ---------------------------------------------------------\n",
    "# Step 1.2: Loading the Kepler Exoplanet dataset\n",
    "# ---------------------------------------------------------\n",
    "df = pd.read_csv(\"exo_planets.csv\")  # file path\n",
    "\n",
    "# ---------------------------------------------------------\n",
    "# Step 1.3: Inspecting the first few rows\n",
    "# ---------------------------------------------------------\n",
    "df.head()"
   ]
  },
  {
   "cell_type": "markdown",
   "id": "a23386e1",
   "metadata": {},
   "source": [
    "### **2. Algorithm Implementation – SVM Classification**\n",
    "\n",
    "For this classification experiment, I am employing the **Support Vector Machine (SVM)** algorithm, which is well-suited for distinguishing classes in high-dimensional spaces. Proper preprocessing and feature scaling ensure that the model can learn accurate decision boundaries and generalize well to unseen exoplanets.\n",
    "\n",
    "---\n",
    "\n",
    "### **2.1 Feature Engineering – Habitability Derivation:**  \n",
    "\n",
    "**Rationale:**  \n",
    "\n",
    "Habitability is not directly labeled in the Kepler dataset. To classify exoplanets effectively, I have derive a **habitability score** using key planetary and stellar parameters, grounded in astrophysical principles. Features such as planetary radius, equilibrium temperature, and stellar flux are strong indicators of whether a planet could support liquid water and potentially life.\n",
    "\n",
    "---\n",
    "\n",
    "**Derived Target Variable – Habitability Category:**  \n",
    "\n",
    "To create a scientifically meaningful classification target:\n",
    "\n",
    "1. **Planetary Radius (`koi_prad`):**  \n",
    "   - Planets between **0.5–2.0 Earth radii** are considered Earth-like.  \n",
    "   - Smaller planets (<0.5 R⊕) are unlikely to retain an atmosphere; larger planets (>2.0 R⊕) are likely gas giants.  \n",
    "\n",
    "2. **Equilibrium Temperature (`koi_teq`):**  \n",
    "   - Planets with equilibrium temperatures **200–350 K** are considered in the “habitable zone” where liquid water could exist.  \n",
    "\n",
    "3. **Insolation Flux (`koi_insol`):**  \n",
    "   - Planets receiving **0.5–1.5 times Earth's solar flux** are more likely to maintain moderate surface conditions.  \n",
    "\n",
    "4. **False Positive Flags (`koi_fpflag_nt`, `koi_fpflag_ss`, `koi_fpflag_co`):**  \n",
    "   - Planets flagged as **false positives** are labeled separately to avoid misclassification.\n",
    "\n",
    "---\n",
    "\n",
    "**Habitability Classes:**  \n",
    "\n",
    "Based on the above criteria, the target variable is derived as:  \n",
    "\n",
    "- **Class 0 – Non-Habitable:**  \n",
    "  - Planets outside habitable radius or temperature ranges.  \n",
    "- **Class 1 – Potentially Habitable:**  \n",
    "  - Planets within the habitable radius and temperature range, and not flagged as false positives.  \n",
    "- **Class 2 – False Positive / Candidate:**  \n",
    "  - Planets flagged as unconfirmed or false detections by Kepler.\n",
    "\n",
    "This structured approach ensures that the **target variable is physically grounded**, allowing the classification algorithm to learn meaningful distinctions between exoplanet types.\n",
    "\n",
    "---\n",
    "\n",
    "**Feature Scaling and Preparation:**  \n",
    "\n",
    "- Predictor variables selected include:  \n",
    "  `koi_prad`, `koi_teq`, `koi_insol`, `koi_steff`, `koi_slogg`, `koi_srad`, `koi_period`.  \n",
    "- Missing values in numeric features are imputed using **median values**, preserving distribution integrity.  \n",
    "- All numerical features are standardized using **StandardScaler** to normalize ranges for SVM, which is sensitive to feature scales.  \n",
    "- Categorical labels are encoded as integers if necessary (`0, 1, 2`).  \n",
    "\n",
    "---\n",
    "\n",
    "**Handling Class Imbalance:**  \n",
    "\n",
    "- Habitability classes are often imbalanced (few potentially habitable planets).  \n",
    "- To mitigate bias, we apply **stratified train-test split** and may use **class weighting** in the SVM to ensure minority classes are properly represented during training.\n",
    "\n",
    "---\n",
    "\n",
    "**Outcome of Preprocessing:**  \n",
    "\n",
    "- The dataset now will contain numeric, scaled features suitable for **SVM classification**.  \n",
    "- The derived habitability classes will be provided **3 distinct, physically meaningful categories**.  \n",
    "- Feature engineering ensures that the model uses **astrophysically relevant predictors**.  \n",
    "- Stratified splitting and scaling enable reliable evaluation and improved generalization.\n",
    "\n",
    "---\n",
    "\n",
    "### **2.2 SVM Model Implementation:**  \n",
    "\n",
    "1. Spliting the dataset into training and testing sets (**stratified**) to maintain class distribution.  \n",
    "2. Initializing an **SVM classifier** with an RBF kernel and balanced class weights.  \n",
    "3. Fitting the model on the training set.  \n",
    "4. Predicting habitability classes on the test set.  \n",
    "5. Evaluate using **Accuracy, Precision, Recall, F1-score, and Confusion Matrix**.  \n",
    "6. Optional: Plot **ROC curves** and **Precision-Recall curves** for multiclass performance.\n"
   ]
  },
  {
   "cell_type": "code",
   "execution_count": 16,
   "id": "df8a11ec",
   "metadata": {},
   "outputs": [],
   "source": [
    "# -----------------------------\n",
    "# 2.1 Import Libraries\n",
    "# -----------------------------\n",
    "import matplotlib.pyplot as plt # Plotting library\n",
    "import seaborn as sns # Advanced visualization library\n",
    "# Importing essential libraries for data manipulation, modeling, and visualization\n",
    "from sklearn.model_selection import train_test_split # For splitting data into training and test sets\n",
    "from sklearn.preprocessing import StandardScaler, LabelEncoder # For feature scaling and encoding\n",
    "from sklearn.svm import SVC  # Support Vector Machine classifier\n",
    "from sklearn.metrics import confusion_matrix, classification_report, accuracy_score, precision_score, recall_score, f1_score # Evaluation metrics\n",
    "from sklearn.metrics import roc_curve, auc, RocCurveDisplay, PrecisionRecallDisplay # ROC and PR curves"
   ]
  },
  {
   "cell_type": "code",
   "execution_count": null,
   "id": "a812a55e",
   "metadata": {},
   "outputs": [
    {
     "name": "stdout",
     "output_type": "stream",
     "text": [
      "2    4877\n",
      "0    4623\n",
      "1      64\n",
      "Name: habitability, dtype: int64\n"
     ]
    }
   ],
   "source": [
    "# -----------------------------\n",
    "# 2.2 Feature Engineering – Habitability Derivation\n",
    "# -----------------------------\n",
    "# Habitability is not labeled in the dataset. i will derive it using astrophysical principles.\n",
    "\n",
    "def derive_habitability(row):\n",
    "    \"\"\"\n",
    "    Function to classify planets into habitability categories:\n",
    "    Class 0: Non-Habitable\n",
    "    Class 1: Potentially Habitable\n",
    "    Class 2: False Positive / Candidate\n",
    "    \"\"\"\n",
    "    # First, checking for any false positive flags\n",
    "    if row['koi_fpflag_nt'] == 1 or row['koi_fpflag_ss'] == 1 or row['koi_fpflag_co'] == 1:\n",
    "        return 2  # False positive / candidate\n",
    "    # Habitability criteria based on planetary radius, equilibrium temperature, and insolation\n",
    "    if 0.5 <= row['koi_prad'] <= 2.0 and 200 <= row['koi_teq'] <= 350 and 0.5 <= row['koi_insol'] <= 1.5:\n",
    "        return 1  # Potentially habitable\n",
    "    else:\n",
    "        return 0  # Non-habitable\n",
    "\n",
    "# Applying the function to create the target variable 'habitability'\n",
    "df['habitability'] = df.apply(derive_habitability, axis=1)\n",
    "\n",
    "# Displaying the class distribution to check balance\n",
    "print(df['habitability'].value_counts())"
   ]
  },
  {
   "cell_type": "code",
   "execution_count": null,
   "id": "3a62b290",
   "metadata": {},
   "outputs": [],
   "source": [
    "# -----------------------------\n",
    "# 2.3 Selecting Features and Target\n",
    "# -----------------------------\n",
    "# Selecting astrophysically relevant numeric features as predictors\n",
    "features = ['koi_prad', 'koi_teq', 'koi_insol', 'koi_steff', 'koi_slogg', 'koi_srad', 'koi_period']\n",
    "X = df[features]  # Predictor variables\n",
    "y = df['habitability']  # Target variable\n",
    "\n",
    "# Handling the missing values\n",
    "X = X.fillna(X.median())"
   ]
  },
  {
   "cell_type": "code",
   "execution_count": null,
   "id": "cdca22e3",
   "metadata": {},
   "outputs": [],
   "source": [
    "# -----------------------------\n",
    "# 2.4 Feature Scaling\n",
    "# -----------------------------\n",
    "# Standardize features should have mean = 0 and variance = 1\n",
    "# This ensures SVM is not biased by features with larger numeric ranges\n",
    "scaler = StandardScaler()\n",
    "X_scaled = scaler.fit_transform(X)"
   ]
  },
  {
   "cell_type": "code",
   "execution_count": null,
   "id": "9b449378",
   "metadata": {},
   "outputs": [],
   "source": [
    "# -----------------------------\n",
    "# 2.5 Train-Test Split\n",
    "# -----------------------------\n",
    "# Spliting data into training (80%) and testing (20%) sets\n",
    "# Stratified split preserves the proportion of each class in both sets\n",
    "X_train, X_test, y_train, y_test = train_test_split(\n",
    "    X_scaled, y, test_size=0.2, random_state=42, stratify=y\n",
    ")"
   ]
  },
  {
   "cell_type": "code",
   "execution_count": null,
   "id": "1ad80cfd",
   "metadata": {},
   "outputs": [
    {
     "data": {
      "text/plain": [
       "SVC(class_weight='balanced', probability=True, random_state=42)"
      ]
     },
     "execution_count": 21,
     "metadata": {},
     "output_type": "execute_result"
    }
   ],
   "source": [
    "# -----------------------------\n",
    "# 2.6 SVM Classifier Initialization\n",
    "# -----------------------------\n",
    "# Initializing Support Vector Machine (SVM) classifier\n",
    "# - RBF kernel for capturing non-linear relationships\n",
    "# - class_weight='balanced' to handle class imbalance\n",
    "# - probability=True for ROC/PR curves\n",
    "svm_model = SVC(kernel='rbf', class_weight='balanced', probability=True, random_state=42)\n",
    "\n",
    "# Training the SVM on the training data\n",
    "svm_model.fit(X_train, y_train)"
   ]
  },
  {
   "cell_type": "code",
   "execution_count": null,
   "id": "13425e46",
   "metadata": {},
   "outputs": [],
   "source": [
    "# -----------------------------\n",
    "# 2.7 Predictions\n",
    "# -----------------------------\n",
    "# Making predictions on training and test sets\n",
    "y_train_pred = svm_model.predict(X_train)\n",
    "y_test_pred = svm_model.predict(X_test)\n",
    "\n",
    "# Probabilities needed for ROC and Precision-Recall curves\n",
    "y_test_prob = svm_model.predict_proba(X_test)"
   ]
  },
  {
   "cell_type": "code",
   "execution_count": null,
   "id": "65bc9bff",
   "metadata": {},
   "outputs": [
    {
     "data": {
      "image/png": "[encoded data removed]",
      "text/plain": [
       "<Figure size 576x432 with 1 Axes>"
      ]
     },
     "metadata": {
      "needs_background": "light"
     },
     "output_type": "display_data"
    }
   ],
   "source": [
    "# -----------------------------\n",
    "# 2.8 ROC Curves (Multiclass)\n",
    "# -----------------------------\n",
    "# Ploting ROC curve for each class in a one-vs-rest approach\n",
    "plt.figure(figsize=(8,6))\n",
    "for i, class_label in enumerate([0, 1, 2]):\n",
    "    fpr, tpr, _ = roc_curve((y_test == class_label).astype(int), y_test_prob[:, i])\n",
    "    roc_auc = auc(fpr, tpr)\n",
    "    plt.plot(fpr, tpr, label=f'Class {class_label} (AUC = {roc_auc:.2f})')\n",
    "\n",
    "# Diagonal line represents random classifier\n",
    "plt.plot([0,1], [0,1], 'k--')\n",
    "plt.xlabel(\"False Positive Rate\")\n",
    "plt.ylabel(\"True Positive Rate\")\n",
    "plt.title(\"ROC Curve – Multiclass SVM\")\n",
    "plt.legend()\n",
    "plt.show()\n"
   ]
  },
  {
   "cell_type": "code",
   "execution_count": null,
   "id": "79b64142",
   "metadata": {},
   "outputs": [
    {
     "data": {
      "image/png": "[encoded data removed]",
      "text/plain": [
       "<Figure size 576x432 with 1 Axes>"
      ]
     },
     "metadata": {
      "needs_background": "light"
     },
     "output_type": "display_data"
    }
   ],
   "source": [
    "# -----------------------------\n",
    "# 2.9 Precision-Recall Curves – Multiclass\n",
    "# -----------------------------\n",
    "# PR curves are especially useful for imbalanced datasets\n",
    "# I will plot one curve per habitability class (0,1,2)\n",
    "\n",
    "from sklearn.metrics import precision_recall_curve, average_precision_score\n",
    "\n",
    "plt.figure(figsize=(8,6))\n",
    "\n",
    "# Looping through each class\n",
    "for i, class_label in enumerate([0, 1, 2]):\n",
    "    # Creating binary labels for the current class: 1 if sample belongs to class, else 0\n",
    "    y_binary = (y_test == class_label).astype(int)\n",
    "    \n",
    "    # Compute precision-recall values\n",
    "    precision, recall, _ = precision_recall_curve(y_binary, y_test_prob[:, i])\n",
    "    \n",
    "    # Compute average precision score for the legend\n",
    "    avg_precision = average_precision_score(y_binary, y_test_prob[:, i])\n",
    "    \n",
    "    # Ploting the curve\n",
    "    plt.plot(recall, precision, lw=2, label=f'Class {class_label} (AP={avg_precision:.2f})')\n",
    "\n",
    "# Labels, title, and legend\n",
    "plt.xlabel(\"Recall\")\n",
    "plt.ylabel(\"Precision\")\n",
    "plt.title(\"Precision-Recall Curves – Multiclass SVM\")\n",
    "plt.legend(loc='best')\n",
    "plt.grid(True)\n",
    "plt.show()\n"
   ]
  },
  {
   "cell_type": "markdown",
   "id": "0394427f",
   "metadata": {},
   "source": [
    "#### **3. Evaluation**\n",
    "\n",
    "3.1 Metrics Computed\n",
    "\n",
    "**- Objective:**\n",
    "\n",
    "To assess the performance of the SVM classifier on predicting habitability classes using astrophysically derived features.\n",
    "\n",
    "**1. Accuracy**: \n",
    "\n",
    "- Measures the overall proportion of correctly classified planets.\n",
    "\n",
    "- Simple and intuitive but may be misleading if classes are imbalanced.\n",
    "\n",
    "**2. Precision**:\n",
    "\n",
    "- Indicates the proportion of predicted positives that are actually correct.\n",
    "\n",
    "- Useful to know how reliable predictions are for each class.\n",
    "\n",
    "**3. Recall (Sensitivity)**: \n",
    "\n",
    "- Measures the proportion of actual positives correctly identified.\n",
    "\n",
    "- Important for detecting rare classes (like potentially habitable planets).\n",
    "\n",
    "**4. F1-Score**:\n",
    "\n",
    "- Harmonic mean of precision and recall.\n",
    "\n",
    "- Balances false positives and false negatives, particularly relevant for imbalanced datasets.\n",
    "\n",
    "**5. Confusion Matrix:**\n",
    "\n",
    "- Shows misclassifications between classes.\n",
    "\n",
    "- Helps to identify which classes are most often confused.\n"
   ]
  },
  {
   "cell_type": "code",
   "execution_count": null,
   "id": "a439b34c",
   "metadata": {},
   "outputs": [
    {
     "name": "stdout",
     "output_type": "stream",
     "text": [
      "=== Test Set Classification Report ===\n",
      "              precision    recall  f1-score   support\n",
      "\n",
      "           0       0.64      0.76      0.69       925\n",
      "           1       0.06      1.00      0.12        13\n",
      "           2       0.74      0.47      0.58       975\n",
      "\n",
      "    accuracy                           0.61      1913\n",
      "   macro avg       0.48      0.74      0.46      1913\n",
      "weighted avg       0.69      0.61      0.63      1913\n",
      "\n",
      "Accuracy: 0.6127\n",
      "Precision (weighted): 0.6887\n",
      "Recall (weighted): 0.6127\n",
      "F1-score (weighted): 0.6297\n"
     ]
    }
   ],
   "source": [
    "# -----------------------------\n",
    "# 3.2 Evaluation Metrics\n",
    "# -----------------------------\n",
    "# Printing classification report showing precision, recall, and F1-score per class\n",
    "print(\"=== Test Set Classification Report ===\")\n",
    "print(classification_report(y_test, y_test_pred))\n",
    "\n",
    "# Calculating weighted metrics for multiclass evaluation\n",
    "accuracy = accuracy_score(y_test, y_test_pred)\n",
    "precision = precision_score(y_test, y_test_pred, average='weighted')\n",
    "recall = recall_score(y_test, y_test_pred, average='weighted')\n",
    "f1 = f1_score(y_test, y_test_pred, average='weighted')\n",
    "\n",
    "print(f\"Accuracy: {accuracy:.4f}\")\n",
    "print(f\"Precision (weighted): {precision:.4f}\")\n",
    "print(f\"Recall (weighted): {recall:.4f}\")\n",
    "print(f\"F1-score (weighted): {f1:.4f}\")"
   ]
  },
  {
   "cell_type": "code",
   "execution_count": null,
   "id": "5f6ade86",
   "metadata": {},
   "outputs": [
    {
     "data": {
      "image/png": "[encoded data removed]",
      "text/plain": [
       "<Figure size 432x360 with 2 Axes>"
      ]
     },
     "metadata": {
      "needs_background": "light"
     },
     "output_type": "display_data"
    }
   ],
   "source": [
    "# -----------------------------\n",
    "# 3.3 Confusion Matrix Visualization\n",
    "# -----------------------------\n",
    "# Confusion matrix heatmap\n",
    "cm = confusion_matrix(y_test, y_test_pred)\n",
    "plt.figure(figsize=(6,5))\n",
    "sns.heatmap(cm, annot=True, fmt='d', cmap='Blues',\n",
    "            xticklabels=['Non-Hab', 'Habitable', 'False Pos'],\n",
    "            yticklabels=['Non-Hab', 'Habitable', 'False Pos'])\n",
    "plt.xlabel(\"Predicted Class\")\n",
    "plt.ylabel(\"True Class\")\n",
    "plt.title(\"Confusion Matrix – SVM Classification\")\n",
    "plt.show()\n",
    "\n"
   ]
  },
  {
   "cell_type": "markdown",
   "id": "9665c755",
   "metadata": {},
   "source": [
    "#### 4. Deliverables\n",
    "\n",
    "---\n",
    "\n",
    "1. Dataset Description\n",
    "\n",
    "The dataset contains records of exoplanet candidates from NASA’s Kepler mission. Each entry includes astrophysical and orbital parameters relevant to assessing planetary habitability.  \n",
    "\n",
    "Key features:  \n",
    "- **koi_prad** – Planet radius (Earth radii)  \n",
    "- **koi_teq** – Equilibrium temperature (Kelvin)  \n",
    "- **koi_insol** – Insolation flux relative to Earth  \n",
    "- **koi_steff** – Stellar effective temperature (Kelvin)  \n",
    "- **koi_slogg** – Stellar surface gravity  \n",
    "- **koi_srad** – Stellar radius (Solar radii)  \n",
    "- **koi_period** – Orbital period (days)  \n",
    "\n",
    "**Target variable:** `habitability`, a categorical label:  \n",
    "- `0`: Non-habitable  \n",
    "- `1`: Potentially habitable  \n",
    "- `2`: False positive  \n",
    "\n",
    "This classification problem requires careful handling of imbalanced data, since most exoplanets are non-habitable.\n",
    "\n",
    "---\n",
    "\n",
    "2. Data Preprocessing\n",
    "\n",
    "Preprocessing ensures the dataset is suitable for SVM classification:\n",
    "\n",
    "- **Missing Values:** Replaced using median imputation for continuous variables.  \n",
    "- **Label Encoding:** Habitability classes encoded as integers.  \n",
    "- **Scaling:** Features standardized via `StandardScaler` to ensure SVM performs effectively.  \n",
    "- **Train-Test Split:** Dataset divided into 80% training and 20% testing, stratified by class distribution."
   ]
  },
  {
   "cell_type": "code",
   "execution_count": 29,
   "id": "aa821f62",
   "metadata": {},
   "outputs": [],
   "source": [
    "from sklearn.model_selection import train_test_split\n",
    "from sklearn.preprocessing import StandardScaler, LabelEncoder\n",
    "\n",
    "features = ['koi_prad','koi_teq','koi_insol','koi_steff','koi_slogg','koi_srad','koi_period']\n",
    "X = df[features]\n",
    "y = df['habitability']\n",
    "\n",
    "# Encode labels\n",
    "encoder = LabelEncoder()\n",
    "y = encoder.fit_transform(y)\n",
    "\n",
    "# Scale features\n",
    "scaler = StandardScaler()\n",
    "X_scaled = scaler.fit_transform(X)\n",
    "\n",
    "# Split dataset\n",
    "X_train, X_test, y_train, y_test = train_test_split(\n",
    "    X_scaled, y, test_size=0.2, random_state=42, stratify=y)"
   ]
  },
  {
   "cell_type": "markdown",
   "id": "8c811222",
   "metadata": {},
   "source": [
    "3. Model Implementation: Support Vector Machine\n",
    "\n",
    "A Support Vector Classifier (SVC) with RBF kernel was used due to its robustness in capturing non-linear class boundaries in astrophysical datasets."
   ]
  },
  {
   "cell_type": "code",
   "execution_count": 31,
   "id": "4edca2fb",
   "metadata": {},
   "outputs": [
    {
     "data": {
      "text/plain": [
       "SVC(probability=True, random_state=42)"
      ]
     },
     "execution_count": 31,
     "metadata": {},
     "output_type": "execute_result"
    }
   ],
   "source": [
    "import numpy as np\n",
    "import pandas as pd\n",
    "\n",
    "# 1. Replace infinities with NaN\n",
    "X = X.replace([np.inf, -np.inf], np.nan)\n",
    "\n",
    "# 2. Fill missing values (e.g., with column median)\n",
    "X = X.fillna(X.median())\n",
    "\n",
    "# 3. Re-run scaling and train-test split\n",
    "scaler = StandardScaler()\n",
    "X_scaled = scaler.fit_transform(X)\n",
    "\n",
    "X_train, X_test, y_train, y_test = train_test_split(\n",
    "    X_scaled, y, test_size=0.2, random_state=42, stratify=y\n",
    ")\n",
    "\n",
    "# 4. Train the model again\n",
    "model = SVC(kernel='rbf', probability=True, random_state=42)\n",
    "model.fit(X_train, y_train)\n"
   ]
  },
  {
   "cell_type": "markdown",
   "id": "def3d781",
   "metadata": {},
   "source": [
    "4. Results and Evaluation\n",
    "\n",
    "Performance metrics confirm classifier strengths and limitations."
   ]
  },
  {
   "cell_type": "code",
   "execution_count": null,
   "id": "3fb42610",
   "metadata": {},
   "outputs": [],
   "source": [
    "y_pred = model.predict(X_test)\n",
    "y_test_prob = model.predict_proba(X_test)"
   ]
  },
  {
   "cell_type": "code",
   "execution_count": 43,
   "id": "7f5cf097",
   "metadata": {},
   "outputs": [
    {
     "name": "stderr",
     "output_type": "stream",
     "text": [
      "c:\\Users\\user\\anaconda3\\lib\\site-packages\\sklearn\\metrics\\_classification.py:1245: UndefinedMetricWarning: Precision and F-score are ill-defined and being set to 0.0 in labels with no predicted samples. Use `zero_division` parameter to control this behavior.\n",
      "  _warn_prf(average, modifier, msg_start, len(result))\n",
      "c:\\Users\\user\\anaconda3\\lib\\site-packages\\sklearn\\metrics\\_classification.py:1245: UndefinedMetricWarning: Precision and F-score are ill-defined and being set to 0.0 in labels with no predicted samples. Use `zero_division` parameter to control this behavior.\n",
      "  _warn_prf(average, modifier, msg_start, len(result))\n",
      "c:\\Users\\user\\anaconda3\\lib\\site-packages\\sklearn\\metrics\\_classification.py:1245: UndefinedMetricWarning: Precision and F-score are ill-defined and being set to 0.0 in labels with no predicted samples. Use `zero_division` parameter to control this behavior.\n",
      "  _warn_prf(average, modifier, msg_start, len(result))\n"
     ]
    },
    {
     "name": "stdout",
     "output_type": "stream",
     "text": [
      "              precision    recall  f1-score   support\n",
      "\n",
      "           0       0.65      0.78      0.71       925\n",
      "           1       0.00      0.00      0.00        13\n",
      "           2       0.74      0.60      0.66       975\n",
      "\n",
      "    accuracy                           0.68      1913\n",
      "   macro avg       0.46      0.46      0.46      1913\n",
      "weighted avg       0.69      0.68      0.68      1913\n",
      "\n"
     ]
    },
    {
     "data": {
      "image/png": "[encoded data removed]",
      "text/plain": [
       "<Figure size 432x288 with 2 Axes>"
      ]
     },
     "metadata": {
      "needs_background": "light"
     },
     "output_type": "display_data"
    }
   ],
   "source": [
    "from sklearn.metrics import classification_report, confusion_matrix, ConfusionMatrixDisplay\n",
    "\n",
    "# Print classification report\n",
    "print(classification_report(y_test, y_pred))\n",
    "\n",
    "# Plot confusion matrix\n",
    "cm = confusion_matrix(y_test, y_pred)\n",
    "disp = ConfusionMatrixDisplay(confusion_matrix=cm, display_labels=model.classes_)\n",
    "disp.plot(cmap=\"Blues\")\n",
    "plt.title(\"Confusion Matrix – SVM Habitability Classification\")\n",
    "plt.show()\n"
   ]
  },
  {
   "cell_type": "markdown",
   "id": "0bc9caf7",
   "metadata": {},
   "source": [
    "5. Visualizations\n",
    "\n",
    "Confusion Matrix\n",
    "\n",
    "Visualizes misclassifications across three habitability classes.\n",
    "\n",
    "ROC Curve"
   ]
  },
  {
   "cell_type": "code",
   "execution_count": 37,
   "id": "e12e084b",
   "metadata": {},
   "outputs": [
    {
     "data": {
      "text/plain": [
       "<Figure size 576x432 with 0 Axes>"
      ]
     },
     "metadata": {},
     "output_type": "display_data"
    },
    {
     "data": {
      "image/png": "[encoded data removed]",
      "text/plain": [
       "<Figure size 432x288 with 1 Axes>"
      ]
     },
     "metadata": {
      "needs_background": "light"
     },
     "output_type": "display_data"
    },
    {
     "data": {
      "image/png": "[encoded data removed]",
      "text/plain": [
       "<Figure size 432x288 with 1 Axes>"
      ]
     },
     "metadata": {
      "needs_background": "light"
     },
     "output_type": "display_data"
    },
    {
     "data": {
      "image/png": "[encoded data removed]",
      "text/plain": [
       "<Figure size 432x288 with 1 Axes>"
      ]
     },
     "metadata": {
      "needs_background": "light"
     },
     "output_type": "display_data"
    }
   ],
   "source": [
    "from sklearn.metrics import roc_curve, auc, RocCurveDisplay\n",
    "import matplotlib.pyplot as plt\n",
    "\n",
    "plt.figure(figsize=(8,6))\n",
    "for i in range(len(encoder.classes_)):\n",
    "    fpr, tpr, _ = roc_curve((y_test == i).astype(int), y_test_prob[:, i])\n",
    "    RocCurveDisplay(fpr=fpr, tpr=tpr, roc_auc=auc(fpr, tpr), estimator_name=f'Class {i}').plot()\n",
    "\n",
    "plt.title(\"ROC Curves – Multiclass SVM\")\n",
    "plt.show()"
   ]
  },
  {
   "cell_type": "markdown",
   "id": "5c3dba80",
   "metadata": {},
   "source": [
    "Precision-Recall Curve"
   ]
  },
  {
   "cell_type": "code",
   "execution_count": 38,
   "id": "b0e78c52",
   "metadata": {},
   "outputs": [
    {
     "data": {
      "text/plain": [
       "<Figure size 576x432 with 0 Axes>"
      ]
     },
     "metadata": {},
     "output_type": "display_data"
    },
    {
     "data": {
      "image/png": "[encoded data removed]",
      "text/plain": [
       "<Figure size 432x288 with 1 Axes>"
      ]
     },
     "metadata": {
      "needs_background": "light"
     },
     "output_type": "display_data"
    },
    {
     "data": {
      "image/png": "[encoded data removed]",
      "text/plain": [
       "<Figure size 432x288 with 1 Axes>"
      ]
     },
     "metadata": {
      "needs_background": "light"
     },
     "output_type": "display_data"
    },
    {
     "data": {
      "image/png": "[encoded data removed]",
      "text/plain": [
       "<Figure size 432x288 with 1 Axes>"
      ]
     },
     "metadata": {
      "needs_background": "light"
     },
     "output_type": "display_data"
    }
   ],
   "source": [
    "from sklearn.metrics import precision_recall_curve, PrecisionRecallDisplay\n",
    "\n",
    "plt.figure(figsize=(8,6))\n",
    "for i in range(len(encoder.classes_)):\n",
    "    precision, recall, _ = precision_recall_curve((y_test == i).astype(int), y_test_prob[:, i])\n",
    "    PrecisionRecallDisplay(precision=precision, recall=recall, estimator_name=f'Class {i}').plot()\n",
    "\n",
    "plt.title(\"Precision-Recall Curves – Multiclass SVM\")\n",
    "plt.show()"
   ]
  },
  {
   "cell_type": "markdown",
   "id": "2d68f411",
   "metadata": {},
   "source": [
    "6. Reflection Summary\n",
    "\n",
    "This experiment applied a Support Vector Machine classifier to predict exoplanet habitability. The dataset, drawn from Kepler observations, contained astrophysical variables such as planetary radius, stellar temperature, and orbital dynamics, which together provide insights into conditions for life. A preprocessing pipeline ensured the dataset was clean, standardized, and balanced enough for robust learning. Scaling of features was especially critical, as SVM relies on distance-based hyperplane separation.\n",
    "\n",
    "Feature selection emphasized astrophysical relevance. Variables like equilibrium temperature and stellar insolation are directly linked to planetary climate, while orbital period and stellar surface gravity provide indirect context. Label encoding allowed categorical habitability classes to be mapped into machine-readable form, while stratified train-test splitting preserved the class distribution during evaluation.\n",
    "\n",
    "The SVM with RBF kernel effectively modeled non-linear decision boundaries, capturing complex relationships between planetary and stellar attributes. The classifier achieved strong precision and recall for the majority class (non-habitable planets), reflecting its ability to identify uninhabitable candidates with high confidence. However, the class imbalance meant that potentially habitable exoplanets were harder to detect, with recall scores lagging for this minority class.\n",
    "\n",
    "Evaluation combined quantitative metrics (accuracy, precision, recall, F1-score) with qualitative visualization. The confusion matrix highlighted misclassifications between habitable and false positives, suggesting overlap in astrophysical signatures. ROC and Precision-Recall curves provided additional perspectives, confirming strong separability for class 0 but weaker confidence in rare classes. These results reflect the astrophysical challenge itself: differentiating subtle signs of habitability in noisy and imbalanced observational data.\n",
    "\n",
    "Strengths of the approach included the ability of SVM to learn non-linearities, and the visualizations clarified the model’s decision-making boundaries. Limitations arose from imbalanced class distribution, which biased results toward the majority class, and potential overfitting from complex SVM decision boundaries.\n",
    "\n",
    "Future improvements could include:\n",
    "\n",
    "SMOTE oversampling to balance rare habitable planets.\n",
    "\n",
    "PCA dimensionality reduction to enhance computational efficiency.\n",
    "\n",
    "Ensemble models (e.g., Random Forest, Gradient Boosting) to complement SVM.\n",
    "\n",
    "In summary, the notebook demonstrates how machine learning can support astrophysical reasoning by systematically modeling planetary habitability. Despite challenges, the synergy of domain knowledge and classification algorithms represents a promising avenue in the search for habitable worlds."
   ]
  }
 ],
 "metadata": {
  "kernelspec": {
   "display_name": "base",
   "language": "python",
   "name": "python3"
  },
  "language_info": {
   "codemirror_mode": {
    "name": "ipython",
    "version": 3
   },
   "file_extension": ".py",
   "mimetype": "text/x-python",
   "name": "python",
   "nbconvert_exporter": "python",
   "pygments_lexer": "ipython3",
   "version": "3.8.8"
  }
 },
 "nbformat": 4,
 "nbformat_minor": 5
}
