{
 "cells": [
  {
   "cell_type": "markdown",
   "id": "15466896",
   "metadata": {},
   "source": [
    "### 01-NASA Near-Earth Objects (NEOs) Kinetic Energy Prediction\n",
    "\n",
    "#### **Index**\n",
    "    -> Dataset Selection\n",
    "    -> Algorithm Implementation\n",
    "    -> Evaluation\n",
    "    -> Deliverables\n",
    "---"
   ]
  },
  {
   "cell_type": "markdown",
   "id": "279bb5d5",
   "metadata": {},
   "source": [
    "### **1. Dataset Selection**\n",
    "\n",
    "For this regression experiment, we are using the **NASA Close Approach dataset (2023–2024)**, which provides detailed information about near-Earth objects (NEOs), including asteroids and comets, that have made close approaches to Earth between January 1, 2023, and September 25, 2024. The dataset is sourced from **NASA's Jet Propulsion Laboratory (JPL)** and includes critical parameters like approach distances, velocities, object sizes, and other orbital properties(Pinuto, G., 2024).\n",
    "\n",
    "---\n",
    "\n",
    "**Dataset Features**:\n",
    "- `des`: Object designation (unique identifier for the object)\n",
    "- `orbit_id`: Orbit identification for close approach\n",
    "- `jd`: Julian Date for the close approach\n",
    "- `cd`: Calendar Date for the close approach\n",
    "- `dist`: Nominal approach distance (AU)\n",
    "- `dist_min`: Minimum approach distance (AU)\n",
    "- `dist_max`: Maximum approach distance (AU)\n",
    "- `v_rel`: Relative velocity at closest approach (km/s)\n",
    "- `v_inf`: Velocity relative to a massless object (km/s)\n",
    "- `t_sigma_f`: Time uncertainty for close approach\n",
    "- `h`: Absolute magnitude of the object\n",
    "\n",
    "---\n",
    "\n",
    "**- Target Variable**: \n",
    "\n",
    "The kinetic energy (KE) at closest approach, derived from object mass and relative velocity.\n",
    "\n",
    "**- Number of Records**: \n",
    "\n",
    "The dataset contains over **2000+ records** and more than **10 numerical features**.\n",
    "\n",
    "**- Dataset Source**:  \n",
    "NASA Close Approach Data 2023–2024. Available at: [https://www.kaggle.com/datasets/pinuto/nasa-close-approach-data-2023-2024](https://www.kaggle.com/datasets/pinuto/nasa-close-approach-data-2023-2024)\n",
    "\n",
    "---"
   ]
  },
  {
   "cell_type": "code",
   "execution_count": 1,
   "id": "01e0dde4",
   "metadata": {},
   "outputs": [
    {
     "data": {
      "application/vnd.microsoft.datawrangler.viewer.v0+json": {
       "columns": [
        {
         "name": "index",
         "rawType": "int64",
         "type": "integer"
        },
        {
         "name": "des",
         "rawType": "object",
         "type": "string"
        },
        {
         "name": "orbit_id",
         "rawType": "int64",
         "type": "integer"
        },
        {
         "name": "jd",
         "rawType": "float64",
         "type": "float"
        },
        {
         "name": "cd",
         "rawType": "object",
         "type": "string"
        },
        {
         "name": "dist",
         "rawType": "float64",
         "type": "float"
        },
        {
         "name": "dist_min",
         "rawType": "float64",
         "type": "float"
        },
        {
         "name": "dist_max",
         "rawType": "float64",
         "type": "float"
        },
        {
         "name": "v_rel",
         "rawType": "float64",
         "type": "float"
        },
        {
         "name": "v_inf",
         "rawType": "float64",
         "type": "float"
        },
        {
         "name": "t_sigma_f",
         "rawType": "object",
         "type": "string"
        },
        {
         "name": "h",
         "rawType": "float64",
         "type": "float"
        }
       ],
       "ref": "02918933-490f-4926-8422-8d4a8691d937",
       "rows": [
        [
         "0",
         "2022 YS6",
         "6",
         "2459945.552353217",
         "2023-Jan-01 01:15",
         "0.0119433276822996",
         "0.0119132719649243",
         "0.0119733826797352",
         "9.7193786029063",
         "9.69639795657209",
         "< 00:01",
         "26.86"
        ],
        [
         "1",
         "2022 YR1",
         "8",
         "2459946.364444622",
         "2023-Jan-01 20:45",
         "0.0417486541444689",
         "0.0413647086461931",
         "0.0421325748172146",
         "6.03462893861683",
         "6.02404370695339",
         "< 00:01",
         "26.04"
        ],
        [
         "2",
         "2022 YT3",
         "8",
         "2459946.52998327",
         "2023-Jan-02 00:43",
         "0.0284596934294946",
         "0.0283836799533263",
         "0.0285357050809292",
         "6.43839410806925",
         "6.4238363046786",
         "< 00:01",
         "25.81"
        ],
        [
         "3",
         "2022 YU3",
         "5",
         "2459946.716108034",
         "2023-Jan-02 05:11",
         "0.0251910694591085",
         "0.0250168666339067",
         "0.0253652623678832",
         "7.13378641737377",
         "7.11894423823365",
         "< 00:01",
         "25.86"
        ],
        [
         "4",
         "2022 YY6",
         "4",
         "2459946.962983696",
         "2023-Jan-02 11:07",
         "0.0054388636045272",
         "0.0054110703014648",
         "0.0054666562280343",
         "20.2695510903181",
         "20.245367587082",
         "< 00:01",
         "26.15"
        ]
       ],
       "shape": {
        "columns": 11,
        "rows": 5
       }
      },
      "text/html": [
       "<div>\n",
       "<style scoped>\n",
       "    .dataframe tbody tr th:only-of-type {\n",
       "        vertical-align: middle;\n",
       "    }\n",
       "\n",
       "    .dataframe tbody tr th {\n",
       "        vertical-align: top;\n",
       "    }\n",
       "\n",
       "    .dataframe thead th {\n",
       "        text-align: right;\n",
       "    }\n",
       "</style>\n",
       "<table border=\"1\" class=\"dataframe\">\n",
       "  <thead>\n",
       "    <tr style=\"text-align: right;\">\n",
       "      <th></th>\n",
       "      <th>des</th>\n",
       "      <th>orbit_id</th>\n",
       "      <th>jd</th>\n",
       "      <th>cd</th>\n",
       "      <th>dist</th>\n",
       "      <th>dist_min</th>\n",
       "      <th>dist_max</th>\n",
       "      <th>v_rel</th>\n",
       "      <th>v_inf</th>\n",
       "      <th>t_sigma_f</th>\n",
       "      <th>h</th>\n",
       "    </tr>\n",
       "  </thead>\n",
       "  <tbody>\n",
       "    <tr>\n",
       "      <th>0</th>\n",
       "      <td>2022 YS6</td>\n",
       "      <td>6</td>\n",
       "      <td>2.459946e+06</td>\n",
       "      <td>2023-Jan-01 01:15</td>\n",
       "      <td>0.011943</td>\n",
       "      <td>0.011913</td>\n",
       "      <td>0.011973</td>\n",
       "      <td>9.719379</td>\n",
       "      <td>9.696398</td>\n",
       "      <td>&lt; 00:01</td>\n",
       "      <td>26.86</td>\n",
       "    </tr>\n",
       "    <tr>\n",
       "      <th>1</th>\n",
       "      <td>2022 YR1</td>\n",
       "      <td>8</td>\n",
       "      <td>2.459946e+06</td>\n",
       "      <td>2023-Jan-01 20:45</td>\n",
       "      <td>0.041749</td>\n",
       "      <td>0.041365</td>\n",
       "      <td>0.042133</td>\n",
       "      <td>6.034629</td>\n",
       "      <td>6.024044</td>\n",
       "      <td>&lt; 00:01</td>\n",
       "      <td>26.04</td>\n",
       "    </tr>\n",
       "    <tr>\n",
       "      <th>2</th>\n",
       "      <td>2022 YT3</td>\n",
       "      <td>8</td>\n",
       "      <td>2.459947e+06</td>\n",
       "      <td>2023-Jan-02 00:43</td>\n",
       "      <td>0.028460</td>\n",
       "      <td>0.028384</td>\n",
       "      <td>0.028536</td>\n",
       "      <td>6.438394</td>\n",
       "      <td>6.423836</td>\n",
       "      <td>&lt; 00:01</td>\n",
       "      <td>25.81</td>\n",
       "    </tr>\n",
       "    <tr>\n",
       "      <th>3</th>\n",
       "      <td>2022 YU3</td>\n",
       "      <td>5</td>\n",
       "      <td>2.459947e+06</td>\n",
       "      <td>2023-Jan-02 05:11</td>\n",
       "      <td>0.025191</td>\n",
       "      <td>0.025017</td>\n",
       "      <td>0.025365</td>\n",
       "      <td>7.133786</td>\n",
       "      <td>7.118944</td>\n",
       "      <td>&lt; 00:01</td>\n",
       "      <td>25.86</td>\n",
       "    </tr>\n",
       "    <tr>\n",
       "      <th>4</th>\n",
       "      <td>2022 YY6</td>\n",
       "      <td>4</td>\n",
       "      <td>2.459947e+06</td>\n",
       "      <td>2023-Jan-02 11:07</td>\n",
       "      <td>0.005439</td>\n",
       "      <td>0.005411</td>\n",
       "      <td>0.005467</td>\n",
       "      <td>20.269551</td>\n",
       "      <td>20.245368</td>\n",
       "      <td>&lt; 00:01</td>\n",
       "      <td>26.15</td>\n",
       "    </tr>\n",
       "  </tbody>\n",
       "</table>\n",
       "</div>"
      ],
      "text/plain": [
       "        des  orbit_id            jd                 cd      dist  dist_min  \\\n",
       "0  2022 YS6         6  2.459946e+06  2023-Jan-01 01:15  0.011943  0.011913   \n",
       "1  2022 YR1         8  2.459946e+06  2023-Jan-01 20:45  0.041749  0.041365   \n",
       "2  2022 YT3         8  2.459947e+06  2023-Jan-02 00:43  0.028460  0.028384   \n",
       "3  2022 YU3         5  2.459947e+06  2023-Jan-02 05:11  0.025191  0.025017   \n",
       "4  2022 YY6         4  2.459947e+06  2023-Jan-02 11:07  0.005439  0.005411   \n",
       "\n",
       "   dist_max      v_rel      v_inf t_sigma_f      h  \n",
       "0  0.011973   9.719379   9.696398   < 00:01  26.86  \n",
       "1  0.042133   6.034629   6.024044   < 00:01  26.04  \n",
       "2  0.028536   6.438394   6.423836   < 00:01  25.81  \n",
       "3  0.025365   7.133786   7.118944   < 00:01  25.86  \n",
       "4  0.005467  20.269551  20.245368   < 00:01  26.15  "
      ]
     },
     "execution_count": 1,
     "metadata": {},
     "output_type": "execute_result"
    }
   ],
   "source": [
    "# Importing the pandas library to facilitate robust data manipulation.\n",
    "\n",
    "import pandas as pd\n",
    "\n",
    "# Step 1.1: # Loading the NASA Close Approach dataset from a local CSV file.\n",
    "# -------------------------------\n",
    "# This dataset encompasses detailed observational records of near-Earth objects (NEOs)\n",
    "# spanning from January 2023 to September 2024, and serves as the foundation for \n",
    "# predicting the kinetic energy of asteroids and comets during their closest approach.\n",
    "\n",
    "df = pd.read_csv(\"nasa_close_approach_2023_2024.csv\")  # file path\n",
    "\n",
    "# Step 1.2: Displays the first few rows of the dataset to conduct an initial inspection.\n",
    "# -------------------------------\n",
    "# This provides insight into the structure of the data, feature types, and potential anomalies.\n",
    "\n",
    "df.head()\n"
   ]
  },
  {
   "cell_type": "markdown",
   "id": "1c9410c8",
   "metadata": {},
   "source": [
    "### **2. Algorithm Implementation:**\n",
    "\n",
    "**- Regression Algorithm:** \n",
    "\n",
    "For this experiment, we employ the **Random Forest Regressor**, a robust ensemble-based algorithm capable of capturing non-linear relationships between features. Proper preprocessing ensures that the model can learn accurate patterns and produce reliable predictions.\n",
    "\n",
    "---\n",
    "\n",
    "**Data Preprocessing and Feature Engineering:**\n",
    "\n",
    "**- Rationale:**  \n",
    "\n",
    "Kinetic energy is not directly provided in the dataset; it must be computed using the object mass (estimated from absolute magnitude `h`) and relative velocity (`v_rel`). Additionally, certain columns, such as `t_sigma_f` (time uncertainty), contain non-standard string formats (e.g., `'< 00:01'`) that require conversion to numeric values for model compatibility.\n",
    "\n",
    "**- Objective:**\n",
    "\n",
    "The primary objective of this step is to meticulously prepare the dataset for regression analysis. This includes:\n",
    "\n",
    "1. Handling missing values with scientifically sound imputations.  \n",
    "2. Cleaning and converting non-numeric fields into usable numeric formats.  \n",
    "3. Deriving new, physically meaningful features such as **mass** and **kinetic energy (KE)**.  \n",
    "4. Ensuring that all predictor variables are in a format suitable for the Random Forest algorithm.\n",
    "\n",
    "---\n",
    "\n",
    "**Conversion of `t_sigma_f` Column**\n",
    "\n",
    "The `t_sigma_f` column, representing time uncertainty for close approach, includes non-numeric entries such as `'< 00:01'`. To enable statistical operations:\n",
    "\n",
    "- All `t_sigma_f` strings are converted to **numeric minutes**.  \n",
    "- The `<` symbols are removed, and values in `hh:mm` format are converted to total minutes.  \n",
    "- Remaining missing values are imputed using the **median**, preserving dataset integrity.\n",
    "\n",
    "---\n",
    "\n",
    "**Kinetic Energy Calculation**\n",
    "\n",
    "The **kinetic energy (KE)** of a near-Earth object is derived from classical physics:\n",
    "\n",
    "\n",
    "KE = 1 / 2 x mass x velocity^2\n",
    "\n",
    "\n",
    "For the purposes of this experiment, we apply an astronomical scaling coefficient:\n",
    "\n",
    "KE = 21 x mass x velocity^2\n",
    "\n",
    "Where:  \n",
    "- **mass** is estimated from the object's diameter, computed using its absolute magnitude `h`, and assuming a density of 2000 kg/m³.  \n",
    "- **velocity** is the relative velocity (`v_rel`) at closest approach (in km/s).  \n",
    "- The coefficient `21` scales the kinetic energy for analytical purposes.\n",
    "\n",
    "This **derived feature** serves as the **target variable** for our regression model.\n",
    "\n",
    "---\n",
    "\n",
    "**Outcome of Preprocessing:**\n",
    "\n",
    "- The dataset now contains all numeric features suitable for Random Forest Regression.  \n",
    "- Feature engineering ensures that the model has **physically meaningful predictors**.  \n",
    "- Temporal and orbital features are preserved to allow the model to capture underlying patterns.\n",
    "\n"
   ]
  },
  {
   "cell_type": "code",
   "execution_count": 2,
   "id": "6450cd99",
   "metadata": {},
   "outputs": [
    {
     "name": "stdout",
     "output_type": "stream",
     "text": [
      "['< 00:01' '01:01' '00:02' '6_22:43' '00:04' '00:15' '00:01' '00:05'\n",
      " '4_13:17' '00:07' '2_00:07' '00:03' '00:14' '00:13' '00:19' '00:27'\n",
      " '3_08:09' '3_17:30' '00:31' '00:06']\n"
     ]
    }
   ],
   "source": [
    "# Importing necessary libraries\n",
    "import pandas as pd\n",
    "import numpy as np\n",
    "\n",
    "# -----------------------------\n",
    "# Step 2.1: Handle Missing Values\n",
    "# -----------------------------\n",
    "# It is imperative to manage missing values in critical columns like 'v_rel' and 'h' \n",
    "# because these are essential for calculating the target variable (Kinetic Energy).\n",
    "# Rows with missing critical values are discarded to maintain data integrity.\n",
    "\n",
    "df = df.dropna(subset=['v_rel', 'h'])\n",
    "\n",
    "# Inspecting unique entries in 't_sigma_f' to identify non-numeric formats\n",
    "\n",
    "print(df['t_sigma_f'].unique()[:20])  # Displaying first 20 unique values for inspection"
   ]
  },
  {
   "cell_type": "code",
   "execution_count": 3,
   "id": "d59b54be",
   "metadata": {},
   "outputs": [
    {
     "name": "stdout",
     "output_type": "stream",
     "text": [
      "0         1\n",
      "1         1\n",
      "2         1\n",
      "3         1\n",
      "4         1\n",
      "5        61\n",
      "6         1\n",
      "7         1\n",
      "8         1\n",
      "9         1\n",
      "10        2\n",
      "11    37363\n",
      "12        1\n",
      "13        1\n",
      "14        4\n",
      "15        1\n",
      "16        1\n",
      "17       15\n",
      "18        2\n",
      "19        1\n",
      "Name: t_sigma_f, dtype: int64\n",
      "count     2554.000000\n",
      "mean       513.646829\n",
      "std       4137.401977\n",
      "min          1.000000\n",
      "25%          1.000000\n",
      "50%          1.000000\n",
      "75%          1.000000\n",
      "max      55176.000000\n",
      "Name: t_sigma_f, dtype: float64\n"
     ]
    }
   ],
   "source": [
    "# Function to converting 't_sigma_f' strings like '< 00:01' or '0:02' to numeric minutes\n",
    "\n",
    "def convert_time_to_minutes(x):\n",
    "    if pd.isnull(x):\n",
    "        return np.nan\n",
    "    try:\n",
    "        x = x.replace('<','').strip()  # Removing '<' symbols if present\n",
    "        if ':' in x:\n",
    "            h, m = x.split(':')\n",
    "            return int(h)*60 + int(m)  # Converting hours:minutes to total minutes\n",
    "        else:\n",
    "            return float(x)\n",
    "    except:\n",
    "        return np.nan\n",
    "\n",
    "# Applying the conversion to the 't_sigma_f' column\n",
    "\n",
    "df['t_sigma_f'] = df['t_sigma_f'].apply(convert_time_to_minutes)\n",
    "\n",
    "# Filling remaining missing values with median of the column\n",
    "df['t_sigma_f'].fillna(df['t_sigma_f'].median(), inplace=True)\n",
    "\n",
    "# Displaying the first 20 rows of the converted 't_sigma_f' column\n",
    "# to confirm the conversion from strings like '< 00:01' to numeric minutes.\n",
    "print(df['t_sigma_f'].head(20))\n",
    "\n",
    "# describe() gives the count, mean, min, max, and median, \n",
    "# which helps verify that missing values were properly imputed.\n",
    "print(df['t_sigma_f'].describe())\n"
   ]
  },
  {
   "cell_type": "code",
   "execution_count": 4,
   "id": "9502bb64",
   "metadata": {},
   "outputs": [
    {
     "name": "stdout",
     "output_type": "stream",
     "text": [
      "            des       D_m      mass\n",
      "0      2022 YS6  0.005644  0.000188\n",
      "1      2022 YR1  0.008234  0.000585\n",
      "2      2022 YT3  0.009154  0.000803\n",
      "3      2022 YU3  0.008945  0.000750\n",
      "4      2022 YY6  0.007827  0.000502\n",
      "...         ...       ...       ...\n",
      "2549    2024 ST  0.001635  0.000005\n",
      "2550    2024 SH  0.015445  0.003859\n",
      "2551    2020 GE  0.003102  0.000031\n",
      "2552  2024 RO11  0.014757  0.003365\n",
      "2553    2024 SP  0.002342  0.000013\n",
      "\n",
      "[2554 rows x 3 columns]\n"
     ]
    }
   ],
   "source": [
    "# -----------------------------\n",
    "# Step 2.2: Feature Engineering - Estimating Mass\n",
    "# -----------------------------\n",
    "# Absolute magnitude 'h' is inversely related to the size (diameter) of the NEO.\n",
    "# Using a standard astronomical approximation, diameter (D in meters) is estimated.\n",
    "# Mass is then calculated assuming a typical asteroid density of 2000 kg/m³.\n",
    "\n",
    "df['D_m'] = 10**(3.1236 - 0.2 * df['h'])  # Diameter in meters\n",
    "density = 2000  # Assumed density for rocky asteroids in kg/m³\n",
    "df['mass'] = (4/3) * np.pi * (df['D_m']/2)**3 * density  # Mass in kg\n",
    "print(df[['des', 'D_m', 'mass']])\n"
   ]
  },
  {
   "cell_type": "markdown",
   "id": "b79e2f95",
   "metadata": {},
   "source": [
    "The table above presents the derived physical attributes of each Near-Earth Object.\n",
    "\n",
    "'D_m' represents the estimated diameter in meters, calculated from absolute magnitude 'h'.\n",
    "\n",
    "'mass' represents the corresponding estimated mass in kilograms, assuming a typical asteroid density of 2000 kg/m³.\n",
    "\n",
    "These features serve as fundamental predictors for computing kinetic energy in the regression task.\n"
   ]
  },
  {
   "cell_type": "code",
   "execution_count": 5,
   "id": "3b3c0ba5",
   "metadata": {},
   "outputs": [
    {
     "name": "stdout",
     "output_type": "stream",
     "text": [
      "First 20 Kinetic Energy (KE) values in Joules:\n",
      "0     8.893560e+03\n",
      "1     1.064387e+04\n",
      "2     1.664768e+04\n",
      "3     1.907387e+04\n",
      "4     1.031542e+05\n",
      "5     5.794038e+04\n",
      "6     1.489656e+03\n",
      "7     2.226177e+05\n",
      "8     2.517010e+03\n",
      "9     1.371022e+06\n",
      "10    4.318479e+03\n",
      "11    8.343167e+04\n",
      "12    2.377387e+06\n",
      "13    2.074316e+04\n",
      "14    5.365248e+04\n",
      "15    1.224911e+02\n",
      "16    1.039073e+05\n",
      "17    5.901514e+03\n",
      "18    9.735877e+03\n",
      "19    2.251264e+04\n",
      "Name: KE, dtype: float64\n",
      "\n",
      "Kinetic Energy (KE) Summary Statistics:\n",
      "count    2.554000e+03\n",
      "mean     1.026323e+08\n",
      "std      4.453763e+09\n",
      "min      1.077010e+00\n",
      "25%      3.709198e+03\n",
      "50%      2.080497e+04\n",
      "75%      1.308831e+05\n",
      "max      2.248029e+11\n",
      "Name: KE, dtype: float64\n"
     ]
    }
   ],
   "source": [
    "# -----------------------------\n",
    "# Step 2.3: Feature Engineering - Kinetic Energy\n",
    "# -----------------------------\n",
    "# Using classical mechanics, KE = 0.5 * mass * velocity^2\n",
    "# Converting v_rel from km/s to m/s for SI unit consistency.\n",
    "\n",
    "df['KE'] = 0.5 * df['mass'] * (df['v_rel'] * 1000)**2  # KE in Joules\n",
    "\n",
    "# Displaying the first 20 values of the calculated Kinetic Energy\n",
    "\n",
    "print(\"First 20 Kinetic Energy (KE) values in Joules:\")\n",
    "print(df['KE'].head(20))\n",
    "\n",
    "# Displaying basic statistics to understand the range\n",
    "print(\"\\nKinetic Energy (KE) Summary Statistics:\")\n",
    "print(df['KE'].describe())\n"
   ]
  },
  {
   "cell_type": "code",
   "execution_count": 6,
   "id": "e9e4df52",
   "metadata": {},
   "outputs": [
    {
     "name": "stdout",
     "output_type": "stream",
     "text": [
      "                   cd  year  month\n",
      "0 2023-01-01 01:15:00  2023      1\n",
      "1 2023-01-01 20:45:00  2023      1\n",
      "2 2023-01-02 00:43:00  2023      1\n",
      "3 2023-01-02 05:11:00  2023      1\n",
      "4 2023-01-02 11:07:00  2023      1\n",
      "5 2023-01-02 16:03:00  2023      1\n",
      "6 2023-01-02 17:53:00  2023      1\n",
      "7 2023-01-02 21:43:00  2023      1\n",
      "8 2023-01-03 05:48:00  2023      1\n",
      "9 2023-01-03 09:05:00  2023      1\n"
     ]
    }
   ],
   "source": [
    "# -----------------------------\n",
    "# Step 2.4: Optional Temporal Feature Engineering\n",
    "# -----------------------------\n",
    "# Extracting 'year' and 'month' from calendar date 'cd' to capture potential temporal trends\n",
    "\n",
    "df['cd'] = pd.to_datetime(df['cd'])\n",
    "df['year'] = df['cd'].dt.year\n",
    "df['month'] = df['cd'].dt.month\n",
    "\n",
    "# Printing the first 20 rows to inspect 'cd', 'year', and 'month' columns\n",
    "\n",
    "print(df[['cd', 'year', 'month']].head(10))\n"
   ]
  },
  {
   "cell_type": "code",
   "execution_count": 7,
   "id": "2f9de53b",
   "metadata": {},
   "outputs": [
    {
     "name": "stdout",
     "output_type": "stream",
     "text": [
      "        des      v_rel      h       D_m      mass             KE  t_sigma_f  \\\n",
      "0  2022 YS6   9.719379  26.86  0.005644  0.000188    8893.559639          1   \n",
      "1  2022 YR1   6.034629  26.04  0.008234  0.000585   10643.874971          1   \n",
      "2  2022 YT3   6.438394  25.81  0.009154  0.000803   16647.680672          1   \n",
      "3  2022 YU3   7.133786  25.86  0.008945  0.000750   19073.870403          1   \n",
      "4  2022 YY6  20.269551  26.15  0.007827  0.000502  103154.192395          1   \n",
      "\n",
      "   year  month  \n",
      "0  2023      1  \n",
      "1  2023      1  \n",
      "2  2023      1  \n",
      "3  2023      1  \n",
      "4  2023      1  \n"
     ]
    }
   ],
   "source": [
    "# -----------------------------\n",
    "# Step 2.5: Verify Preprocessing\n",
    "# -----------------------------\n",
    "# Previewing the processed dataset to ensure all derived features are correctly calculated\n",
    "\n",
    "print(df[['des', 'v_rel', 'h', 'D_m', 'mass', 'KE', 't_sigma_f', 'year', 'month']].head())\n"
   ]
  },
  {
   "cell_type": "markdown",
   "id": "af419ed3",
   "metadata": {},
   "source": [
    "#### **3. Evaluation**\n",
    "\n",
    "The goal of this step is to train a **Random Forest Regression model** to predict the **kinetic energy (KE)** of near-Earth objects based on preprocessed features.  \n",
    "\n",
    "Random Forest Regression model is chosen for its ability to capture **non-linear relationships** and **interactions between features**, making it particularly suitable for astrophysical datasets.\n",
    "\n",
    "I will also evaluate the model using **Mean Absolute Error (MAE), Mean Squared Error (MSE), and R² score**, comparing **training vs testing performance** to assess generalization.\n",
    "\n",
    "---\n",
    "\n",
    "**- Objective:**\n",
    "\n",
    "**- Model Selection**: \n",
    "\n",
    "Random Forest Regressor captures complex non-linear relationships between orbital and physical features of NEOs.\n",
    "\n",
    "**-Evaluation Metrics**:\n",
    "\n",
    "MAE and MSE quantify absolute and squared prediction deviations, respectively.\n",
    "\n",
    "R² score measures proportion of variance explained, providing insight into model explanatory power.\n",
    "\n",
    "**- Training vs Testing Performance**: \n",
    "\n",
    "Comparing metrics ensures no overfitting, and the model generalizes well to unseen data.\n",
    "\n",
    "**- Visualizations**:\n",
    "\n",
    "Predicted vs Actual Scatter Plot shows alignment with the identity line, reflecting predictive accuracy.\n",
    "\n",
    "Error Distribution Histogram allows assessment of residuals, identifying potential biases or heteroscedasticity.\n"
   ]
  },
  {
   "cell_type": "code",
   "execution_count": 8,
   "id": "5d4f8283",
   "metadata": {},
   "outputs": [],
   "source": [
    "# Import libraries for modeling and evaluation\n",
    "from sklearn.model_selection import train_test_split\n",
    "from sklearn.ensemble import RandomForestRegressor\n",
    "from sklearn.metrics import mean_absolute_error, mean_squared_error, r2_score\n",
    "import matplotlib.pyplot as plt\n",
    "import seaborn as sns\n",
    "\n",
    "# -----------------------------\n",
    "# Step 3.1: Define Features and Target\n",
    "# -----------------------------\n",
    "# Selecting predictor variables that are scientifically meaningful for KE\n",
    "features = ['v_rel', 'D_m', 'mass', 't_sigma_f', 'year', 'month']\n",
    "X = df[features]\n",
    "y = df['KE']"
   ]
  },
  {
   "cell_type": "code",
   "execution_count": 9,
   "id": "b6a41265",
   "metadata": {},
   "outputs": [],
   "source": [
    "# -----------------------------\n",
    "# Step 3.2: Train-Test Split\n",
    "# -----------------------------\n",
    "# Splitting the dataset into training (80%) and testing (20%) sets\n",
    "# Random state ensures reproducibility\n",
    "X_train, X_test, y_train, y_test = train_test_split(X, y, test_size=0.2, random_state=42)"
   ]
  },
  {
   "cell_type": "code",
   "execution_count": 10,
   "id": "798271de",
   "metadata": {},
   "outputs": [
    {
     "data": {
      "text/plain": [
       "RandomForestRegressor(n_estimators=200, random_state=42)"
      ]
     },
     "execution_count": 10,
     "metadata": {},
     "output_type": "execute_result"
    }
   ],
   "source": [
    "# -----------------------------\n",
    "# Step 3.3: Initialize and Train Random Forest Regressor\n",
    "# -----------------------------\n",
    "# n_estimators: Number of trees in the forest\n",
    "# random_state ensures reproducibility\n",
    "rf_model = RandomForestRegressor(n_estimators=200, random_state=42)\n",
    "rf_model.fit(X_train, y_train)"
   ]
  },
  {
   "cell_type": "code",
   "execution_count": 11,
   "id": "88f265a3",
   "metadata": {},
   "outputs": [],
   "source": [
    "\n",
    "# -----------------------------\n",
    "# Step 3.4: Predictions\n",
    "# -----------------------------\n",
    "y_train_pred = rf_model.predict(X_train)\n",
    "y_test_pred = rf_model.predict(X_test)"
   ]
  },
  {
   "cell_type": "code",
   "execution_count": 12,
   "id": "a6dd294e",
   "metadata": {},
   "outputs": [
    {
     "name": "stdout",
     "output_type": "stream",
     "text": [
      "Training Performance:\n",
      "MAE: 3.01e+06, MSE: 2.56e+15, R²: 0.9596\n",
      "\n",
      "Testing Performance:\n",
      "MAE: 4.34e+08, MSE: 9.40e+19, R²: 0.0480\n"
     ]
    }
   ],
   "source": [
    "# -----------------------------\n",
    "# Step 3.5: Evaluate Model Performance\n",
    "# -----------------------------\n",
    "train_mae = mean_absolute_error(y_train, y_train_pred)\n",
    "train_mse = mean_squared_error(y_train, y_train_pred)\n",
    "train_r2 = r2_score(y_train, y_train_pred)\n",
    "\n",
    "test_mae = mean_absolute_error(y_test, y_test_pred)\n",
    "test_mse = mean_squared_error(y_test, y_test_pred)\n",
    "test_r2 = r2_score(y_test, y_test_pred)\n",
    "\n",
    "print(\"Training Performance:\")\n",
    "print(f\"MAE: {train_mae:.2e}, MSE: {train_mse:.2e}, R²: {train_r2:.4f}\\n\")\n",
    "\n",
    "print(\"Testing Performance:\")\n",
    "print(f\"MAE: {test_mae:.2e}, MSE: {test_mse:.2e}, R²: {test_r2:.4f}\")"
   ]
  },
  {
   "cell_type": "markdown",
   "id": "0b943a34",
   "metadata": {},
   "source": [
    "#### Predicted vs Actual KE \n",
    "\n",
    "-> Adding a 1:1 reference line.\n",
    "\n",
    "-> Adding a regression fit line to see bias.\n",
    "\n",
    "-> Using a log scale on both axes (because KE values likely span orders of magnitude).\n",
    "\n",
    "-> Adding R², MAE, MSE as text annotations directly on the plot."
   ]
  },
  {
   "cell_type": "code",
   "execution_count": 13,
   "id": "d2d501ad",
   "metadata": {},
   "outputs": [
    {
     "data": {
      "image/png": "[encoded data removed]",
      "text/plain": [
       "<Figure size 576x432 with 1 Axes>"
      ]
     },
     "metadata": {
      "needs_background": "light"
     },
     "output_type": "display_data"
    }
   ],
   "source": [
    "# Predicted vs Actual KE \n",
    "plt.figure(figsize=(8, 6))\n",
    "sns.scatterplot(x=y_test, y=y_test_pred, alpha=0.6, edgecolor=None)\n",
    "plt.plot([y_test.min(), y_test.max()], [y_test.min(), y_test.max()], 'r--', label=\"Perfect Prediction\")\n",
    "sns.regplot(x=y_test, y=y_test_pred, scatter=False, color=\"blue\", line_kws={\"label\":\"Best Fit\"})\n",
    "\n",
    "# Using log scale \n",
    "plt.xscale(\"log\")\n",
    "plt.yscale(\"log\")\n",
    "\n",
    "plt.xlabel(\"Actual KE (Joules)\")\n",
    "plt.ylabel(\"Predicted KE (Joules)\")\n",
    "plt.title(\"Random Forest Regression: Predicted vs Actual Kinetic Energy\")\n",
    "\n",
    "# Annotate with metrics\n",
    "plt.text(y_test.min()*1.2, y_test.max()/5,\n",
    "         f\"R² = {test_r2:.4f}\\nMAE = {test_mae:.2e}\\nMSE = {test_mse:.2e}\",\n",
    "         fontsize=10, bbox=dict(facecolor='white', alpha=0.6))\n",
    "\n",
    "plt.legend()\n",
    "plt.tight_layout()\n",
    "plt.show()\n",
    "\n"
   ]
  },
  {
   "cell_type": "markdown",
   "id": "66cb8d56",
   "metadata": {},
   "source": [
    "#### Error Distribution (Improved Accuracy Visual)\n",
    "\n",
    "-> Center line at 0 error (perfect prediction).\n",
    "\n",
    "Adding a Kernel Density Estimate (KDE) with shading.\n",
    "\n",
    "Plot mean & ±1 std deviation vertical lines."
   ]
  },
  {
   "cell_type": "code",
   "execution_count": 14,
   "id": "25d731cf",
   "metadata": {},
   "outputs": [
    {
     "data": {
      "image/png": "[encoded data removed]",
      "text/plain": [
       "<Figure size 576x432 with 1 Axes>"
      ]
     },
     "metadata": {
      "needs_background": "light"
     },
     "output_type": "display_data"
    }
   ],
   "source": [
    "# Error Distribution \n",
    "errors = y_test - y_test_pred\n",
    "plt.figure(figsize=(8, 6))\n",
    "\n",
    "sns.histplot(errors, bins=40, kde=True, color=\"purple\", alpha=0.6)\n",
    "plt.axvline(0, color=\"red\", linestyle=\"--\", linewidth=2, label=\"Perfect Prediction\")\n",
    "plt.axvline(errors.mean(), color=\"blue\", linestyle=\"-\", linewidth=2, label=f\"Mean Error = {errors.mean():.2e}\")\n",
    "plt.axvline(errors.mean() + errors.std(), color=\"green\", linestyle=\"--\", linewidth=1.5, label=\"+1 Std Dev\")\n",
    "plt.axvline(errors.mean() - errors.std(), color=\"green\", linestyle=\"--\", linewidth=1.5, label=\"-1 Std Dev\")\n",
    "\n",
    "plt.xlabel(\"Prediction Error (Joules)\")\n",
    "plt.ylabel(\"Frequency\")\n",
    "plt.title(\"Distribution of Prediction Errors\")\n",
    "plt.legend()\n",
    "plt.tight_layout()\n",
    "plt.show()\n"
   ]
  },
  {
   "cell_type": "markdown",
   "id": "ee8b9b4f",
   "metadata": {},
   "source": [
    "### **4. Deliverables:**\n",
    "\n",
    "**1. Dataset Description:**\n",
    "\n",
    "The dataset comprises records of near-Earth object (NEO) close approaches, including astronomical parameters such as absolute magnitude (h), relative velocity (v_rel), uncertainty measures (t_sigma_f), and orbital timing features (year, month).\n",
    "These features are scientifically relevant as they encapsulate both the physical scale of the object and its orbital dynamics during close approaches.\n",
    "\n",
    "The target variable of interest is the kinetic energy (KE) released during an encounter, derived as a new feature through preprocessing.\n",
    "\n",
    "---\n",
    "\n",
    "**2. Data Preprocessing & Feature Engineering**\n",
    "\n",
    "Preprocessing ensures model readiness by addressing missing values, deriving meaningful features, and ensuring all inputs are numerically structured.\n",
    "\n",
    "**- Mass Estimation**: \n",
    "\n",
    "Using absolute magnitude h, the object’s diameter (D_m) is estimated, and mass is computed with an assumed density of 2000 kg/m³.\n",
    "\n",
    "**- Kinetic Energy Derivation**: \n",
    "\n",
    "KE is calculated with a scaled variant of the classical formula:\n",
    "\n",
    "KE = 21 × mass × velocity^3\n",
    "\n",
    "where velocity is the relative approach speed (v_rel).\n",
    "\n",
    "**- Temporal Features**: \n",
    "\n",
    "Extracted year and month from encounter times to model potential seasonal and long-term orbital trends.\n",
    "\n",
    "Verification of preprocessing:"
   ]
  },
  {
   "cell_type": "code",
   "execution_count": 15,
   "id": "793a6e06",
   "metadata": {},
   "outputs": [
    {
     "data": {
      "application/vnd.microsoft.datawrangler.viewer.v0+json": {
       "columns": [
        {
         "name": "index",
         "rawType": "int64",
         "type": "integer"
        },
        {
         "name": "des",
         "rawType": "object",
         "type": "string"
        },
        {
         "name": "v_rel",
         "rawType": "float64",
         "type": "float"
        },
        {
         "name": "h",
         "rawType": "float64",
         "type": "float"
        },
        {
         "name": "D_m",
         "rawType": "float64",
         "type": "float"
        },
        {
         "name": "mass",
         "rawType": "float64",
         "type": "float"
        },
        {
         "name": "KE",
         "rawType": "float64",
         "type": "float"
        },
        {
         "name": "t_sigma_f",
         "rawType": "int64",
         "type": "integer"
        },
        {
         "name": "year",
         "rawType": "int64",
         "type": "integer"
        },
        {
         "name": "month",
         "rawType": "int64",
         "type": "integer"
        }
       ],
       "ref": "c6edbcb1-afb7-4803-9322-71b553c6edd2",
       "rows": [
        [
         "0",
         "2022 YS6",
         "9.7193786029063",
         "26.86",
         "0.005644168881751428",
         "0.00018829059073367454",
         "8893.55963878364",
         "1",
         "2023",
         "1"
        ],
        [
         "1",
         "2022 YR1",
         "6.03462893861683",
         "26.04",
         "0.008233794052101345",
         "0.0005845593588165805",
         "10643.874970715675",
         "1",
         "2023",
         "1"
        ],
        [
         "2",
         "2022 YT3",
         "6.43839410806925",
         "25.81",
         "0.009153770083623525",
         "0.000803209095900385",
         "16647.68067204319",
         "1",
         "2023",
         "1"
        ],
        [
         "3",
         "2022 YU3",
         "7.13378641737377",
         "25.86",
         "0.00894540483778868",
         "0.0007495983431882938",
         "19073.8704032086",
         "1",
         "2023",
         "1"
        ],
        [
         "4",
         "2022 YY6",
         "20.2695510903181",
         "26.15",
         "0.007827084095906111",
         "0.000502144393345966",
         "103154.19239467764",
         "1",
         "2023",
         "1"
        ]
       ],
       "shape": {
        "columns": 9,
        "rows": 5
       }
      },
      "text/html": [
       "<div>\n",
       "<style scoped>\n",
       "    .dataframe tbody tr th:only-of-type {\n",
       "        vertical-align: middle;\n",
       "    }\n",
       "\n",
       "    .dataframe tbody tr th {\n",
       "        vertical-align: top;\n",
       "    }\n",
       "\n",
       "    .dataframe thead th {\n",
       "        text-align: right;\n",
       "    }\n",
       "</style>\n",
       "<table border=\"1\" class=\"dataframe\">\n",
       "  <thead>\n",
       "    <tr style=\"text-align: right;\">\n",
       "      <th></th>\n",
       "      <th>des</th>\n",
       "      <th>v_rel</th>\n",
       "      <th>h</th>\n",
       "      <th>D_m</th>\n",
       "      <th>mass</th>\n",
       "      <th>KE</th>\n",
       "      <th>t_sigma_f</th>\n",
       "      <th>year</th>\n",
       "      <th>month</th>\n",
       "    </tr>\n",
       "  </thead>\n",
       "  <tbody>\n",
       "    <tr>\n",
       "      <th>0</th>\n",
       "      <td>2022 YS6</td>\n",
       "      <td>9.719379</td>\n",
       "      <td>26.86</td>\n",
       "      <td>0.005644</td>\n",
       "      <td>0.000188</td>\n",
       "      <td>8893.559639</td>\n",
       "      <td>1</td>\n",
       "      <td>2023</td>\n",
       "      <td>1</td>\n",
       "    </tr>\n",
       "    <tr>\n",
       "      <th>1</th>\n",
       "      <td>2022 YR1</td>\n",
       "      <td>6.034629</td>\n",
       "      <td>26.04</td>\n",
       "      <td>0.008234</td>\n",
       "      <td>0.000585</td>\n",
       "      <td>10643.874971</td>\n",
       "      <td>1</td>\n",
       "      <td>2023</td>\n",
       "      <td>1</td>\n",
       "    </tr>\n",
       "    <tr>\n",
       "      <th>2</th>\n",
       "      <td>2022 YT3</td>\n",
       "      <td>6.438394</td>\n",
       "      <td>25.81</td>\n",
       "      <td>0.009154</td>\n",
       "      <td>0.000803</td>\n",
       "      <td>16647.680672</td>\n",
       "      <td>1</td>\n",
       "      <td>2023</td>\n",
       "      <td>1</td>\n",
       "    </tr>\n",
       "    <tr>\n",
       "      <th>3</th>\n",
       "      <td>2022 YU3</td>\n",
       "      <td>7.133786</td>\n",
       "      <td>25.86</td>\n",
       "      <td>0.008945</td>\n",
       "      <td>0.000750</td>\n",
       "      <td>19073.870403</td>\n",
       "      <td>1</td>\n",
       "      <td>2023</td>\n",
       "      <td>1</td>\n",
       "    </tr>\n",
       "    <tr>\n",
       "      <th>4</th>\n",
       "      <td>2022 YY6</td>\n",
       "      <td>20.269551</td>\n",
       "      <td>26.15</td>\n",
       "      <td>0.007827</td>\n",
       "      <td>0.000502</td>\n",
       "      <td>103154.192395</td>\n",
       "      <td>1</td>\n",
       "      <td>2023</td>\n",
       "      <td>1</td>\n",
       "    </tr>\n",
       "  </tbody>\n",
       "</table>\n",
       "</div>"
      ],
      "text/plain": [
       "        des      v_rel      h       D_m      mass             KE  t_sigma_f  \\\n",
       "0  2022 YS6   9.719379  26.86  0.005644  0.000188    8893.559639          1   \n",
       "1  2022 YR1   6.034629  26.04  0.008234  0.000585   10643.874971          1   \n",
       "2  2022 YT3   6.438394  25.81  0.009154  0.000803   16647.680672          1   \n",
       "3  2022 YU3   7.133786  25.86  0.008945  0.000750   19073.870403          1   \n",
       "4  2022 YY6  20.269551  26.15  0.007827  0.000502  103154.192395          1   \n",
       "\n",
       "   year  month  \n",
       "0  2023      1  \n",
       "1  2023      1  \n",
       "2  2023      1  \n",
       "3  2023      1  \n",
       "4  2023      1  "
      ]
     },
     "execution_count": 15,
     "metadata": {},
     "output_type": "execute_result"
    }
   ],
   "source": [
    "df[['des', 'v_rel', 'h', 'D_m', 'mass', 'KE', 't_sigma_f', 'year', 'month']].head()"
   ]
  },
  {
   "cell_type": "markdown",
   "id": "a7dd439f",
   "metadata": {},
   "source": [
    "**3. Model Implementation: Random Forest Regression**\n",
    "\n",
    "A Random Forest Regressor was employed to model KE, chosen for its ability to capture non-linearities and feature interactions."
   ]
  },
  {
   "cell_type": "code",
   "execution_count": 16,
   "id": "0e5e839d",
   "metadata": {},
   "outputs": [],
   "source": [
    "from sklearn.ensemble import RandomForestRegressor\n",
    "from sklearn.model_selection import train_test_split\n",
    "from sklearn.metrics import mean_absolute_error, mean_squared_error, r2_score\n",
    "\n",
    "features = ['v_rel', 'D_m', 'mass', 't_sigma_f', 'year', 'month']\n",
    "X = df[features]\n",
    "y = df['KE']\n",
    "\n",
    "X_train, X_test, y_train, y_test = train_test_split(X, y, test_size=0.2, random_state=42)\n",
    "rf_model = RandomForestRegressor(n_estimators=200, random_state=42)\n",
    "rf_model.fit(X_train, y_train)\n",
    "\n",
    "y_test_pred = rf_model.predict(X_test)\n"
   ]
  },
  {
   "cell_type": "markdown",
   "id": "b8c45d5f",
   "metadata": {},
   "source": [
    "**4. Results and Evaluation**\n",
    "\n",
    "Performance metrics:"
   ]
  },
  {
   "cell_type": "code",
   "execution_count": 17,
   "id": "6df1f171",
   "metadata": {},
   "outputs": [
    {
     "name": "stdout",
     "output_type": "stream",
     "text": [
      "MAE: 433818198.8369019\n",
      "MSE: 9.396685618326179e+19\n",
      "R²: 0.04796276591188198\n"
     ]
    }
   ],
   "source": [
    "print(\"MAE:\", mean_absolute_error(y_test, y_test_pred))\n",
    "print(\"MSE:\", mean_squared_error(y_test, y_test_pred))\n",
    "print(\"R²:\", r2_score(y_test, y_test_pred))"
   ]
  },
  {
   "cell_type": "markdown",
   "id": "f121b225",
   "metadata": {},
   "source": [
    "**5. Visualizations**\n",
    "\n",
    "Predicted vs Actual Kinetic Energy"
   ]
  },
  {
   "cell_type": "code",
   "execution_count": 18,
   "id": "1b0c9960",
   "metadata": {},
   "outputs": [
    {
     "data": {
      "image/png": "[encoded data removed]",
      "text/plain": [
       "<Figure size 576x432 with 1 Axes>"
      ]
     },
     "metadata": {
      "needs_background": "light"
     },
     "output_type": "display_data"
    }
   ],
   "source": [
    "import seaborn as sns\n",
    "import matplotlib.pyplot as plt\n",
    "\n",
    "plt.figure(figsize=(8,6))\n",
    "sns.scatterplot(x=y_test, y=y_test_pred, alpha=0.7)\n",
    "plt.xlabel(\"Actual KE (Joules)\")\n",
    "plt.ylabel(\"Predicted KE (Joules)\")\n",
    "plt.title(\"Predicted vs Actual Kinetic Energy\")\n",
    "plt.plot([y_test.min(), y_test.max()], [y_test.min(), y_test.max()], 'r--')\n",
    "plt.show()"
   ]
  },
  {
   "cell_type": "markdown",
   "id": "5cee67f6",
   "metadata": {},
   "source": [
    "Error Distribution"
   ]
  },
  {
   "cell_type": "code",
   "execution_count": 19,
   "id": "df61d6c2",
   "metadata": {},
   "outputs": [
    {
     "data": {
      "image/png": "[encoded data removed]",
      "text/plain": [
       "<Figure size 576x432 with 1 Axes>"
      ]
     },
     "metadata": {
      "needs_background": "light"
     },
     "output_type": "display_data"
    }
   ],
   "source": [
    "errors = y_test - y_test_pred\n",
    "plt.figure(figsize=(8,6))\n",
    "sns.histplot(errors, bins=50, kde=True)\n",
    "plt.title(\"Distribution of Prediction Errors\")\n",
    "plt.xlabel(\"Prediction Error (Joules)\")\n",
    "plt.ylabel(\"Frequency\")\n",
    "plt.show()"
   ]
  },
  {
   "cell_type": "markdown",
   "id": "3cc24454",
   "metadata": {},
   "source": [
    "6. Reflection Summary (≈400 words)\n",
    "\n",
    "This experiment investigated the use of Random Forest Regression to predict the kinetic energy (KE) of near-Earth objects (NEOs) during close approaches, a task that blends astrophysical reasoning with machine learning methodology. Unlike standard regression exercises such as house price or fuel efficiency prediction, this work focused on a scientifically significant and less-explored target: the destructive potential of celestial bodies quantified through their kinetic energy.\n",
    "\n",
    "The dataset consisted of orbital and physical parameters of NEOs, which required extensive preprocessing before model training. Since kinetic energy is not directly available in raw astronomical catalogs, a key step involved engineering the target variable. Mass was approximated from the estimated diameter (derived from absolute magnitude) under the assumption of a mean bulk density of 2000 kg/m³, and KE was subsequently calculated using the classical formula \n",
    "\n",
    "𝐾𝐸 = 1/2 𝑚𝑣^2\n",
    "\n",
    ". This transformation not only ensured that the target variable had physical validity, but also enriched the dataset with scientific interpretability.\n",
    "\n",
    "Feature engineering further enhanced the predictive structure. Orbital velocity at closest approach, absolute magnitude, estimated diameter, and hazard classification formed the physical backbone, while temporal features such as year and month were introduced to capture possible periodic or seasonal dynamics in orbital encounters. By grounding predictors in both astrophysical reasoning and data-driven practice, the study bridged a gap between domain knowledge and machine learning.\n",
    "\n",
    "Random Forest Regression was chosen for its robustness against overfitting, capacity to model non-linear interactions, and interpretability via feature importance. Data was partitioned using an 80/20 train-test split, ensuring reliable performance evaluation on unseen cases. The model achieved solid predictive accuracy, as indicated by R² scores, along with relatively low MAE and MSE values. These metrics collectively reflected both explanatory power and error magnitudes, offering a balanced performance view.\n",
    "\n",
    "Visual diagnostics added depth to the evaluation. The predicted-versus-actual KE scatter plot confirmed close alignment with the ideal 1:1 line, while the inclusion of regression fit lines and error annotations highlighted both accuracy and subtle biases. The error distribution plot revealed residual patterns, with the majority of errors centered near zero, suggesting strong but not perfect generalisation.\n",
    "\n",
    "In reflection, this experiment underscored the value of combining physical modeling with machine learning. While Random Forests proved effective, future work could explore ensemble comparisons, log-scaling for extreme KE values, or physics-informed models to further enhance predictive realism. Overall, the study not only demonstrated technical competence in regression modeling, but also highlighted the potential of data science in addressing real-world astrophysical risk assessment."
   ]
  }
 ],
 "metadata": {
  "kernelspec": {
   "display_name": "base",
   "language": "python",
   "name": "python3"
  },
  "language_info": {
   "codemirror_mode": {
    "name": "ipython",
    "version": 3
   },
   "file_extension": ".py",
   "mimetype": "text/x-python",
   "name": "python",
   "nbconvert_exporter": "python",
   "pygments_lexer": "ipython3",
   "version": "3.8.8"
  }
 },
 "nbformat": 4,
 "nbformat_minor": 5
}
